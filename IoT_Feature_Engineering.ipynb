{
 "cells": [
  {
   "cell_type": "markdown",
   "id": "03af862e-006c-47b0-83e8-f55319f36b36",
   "metadata": {},
   "source": [
    "## Data Import and Preprocessing"
   ]
  },
  {
   "cell_type": "code",
   "execution_count": 5,
   "id": "c5b7ed9d-85e1-4646-85b5-c29ea2e8c483",
   "metadata": {},
   "outputs": [],
   "source": [
    "import os\n",
    "import datetime\n",
    "import warnings\n",
    "\n",
    "import pandas as pd\n",
    "import numpy as np\n",
    "import pandas as pd\n",
    "\n",
    "import matplotlib.pyplot as plt\n",
    "import seaborn as sns\n",
    "from mpl_toolkits.mplot3d import Axes3D\n",
    "import matplotlib.animation as animation\n",
    "import plotly.express as px\n",
    "import plotly.io as pio\n",
    "import kmapper as km\n",
    "import plotly.graph_objects as go\n",
    "from kmapper.plotlyviz import plotlyviz\n",
    "\n",
    "from bs4 import BeautifulSoup\n",
    "import matplotlib.colors as mcolors\n",
    "\n",
    "from sklearn.decomposition import PCA, KernelPCA\n",
    "from sklearn.manifold import TSNE, Isomap, LocallyLinearEmbedding\n",
    "import umap.umap_ as umap\n",
    "\n",
    "from sklearn.preprocessing import LabelEncoder, StandardScaler, OneHotEncoder, PowerTransformer, MinMaxScaler\n",
    "from sklearn.experimental import enable_iterative_imputer\n",
    "from sklearn.impute import IterativeImputer\n",
    "from sklearn.ensemble import RandomForestRegressor\n",
    "from sklearn.neighbors import KNeighborsRegressor\n",
    "from sklearn.exceptions import ConvergenceWarning\n",
    "from sklearn.linear_model import BayesianRidge\n",
    "from sklearn.discriminant_analysis import LinearDiscriminantAnalysis\n",
    "from sklearn.feature_selection import mutual_info_classif\n",
    "from sklearn.preprocessing import KBinsDiscretizer\n",
    "from sklearn.cluster import DBSCAN\n",
    "\n",
    "from pydrive2.auth import GoogleAuth\n",
    "from pydrive2.drive import GoogleDrive"
   ]
  },
  {
   "cell_type": "code",
   "execution_count": 6,
   "id": "92b2a70a-83eb-430c-92e0-2d60f01182c6",
   "metadata": {},
   "outputs": [],
   "source": [
    "with open('RT_IOT2022', mode = 'r') as f:\n",
    "    iot_df = []\n",
    "    lines = f.readlines()\n",
    "    cols =lines[0].strip().split(',')\n",
    "    cols[0] = 'ID'\n",
    "    \n",
    "    for line in lines[1:]:\n",
    "        iot_df.append(line.strip().split(','))\n",
    "\n",
    "iot_df = pd.DataFrame(iot_df, columns = cols)\n"
   ]
  },
  {
   "cell_type": "code",
   "execution_count": 7,
   "id": "a2b763c7-a4af-45f3-9336-5e3917e938b7",
   "metadata": {},
   "outputs": [
    {
     "name": "stdout",
     "output_type": "stream",
     "text": [
      "<class 'pandas.core.frame.DataFrame'>\n",
      "RangeIndex: 123117 entries, 0 to 123116\n",
      "Data columns (total 85 columns):\n",
      " #   Column                    Non-Null Count   Dtype \n",
      "---  ------                    --------------   ----- \n",
      " 0   ID                        123117 non-null  object\n",
      " 1   id.orig_p                 123117 non-null  object\n",
      " 2   id.resp_p                 123117 non-null  object\n",
      " 3   proto                     123117 non-null  object\n",
      " 4   service                   123117 non-null  object\n",
      " 5   flow_duration             123117 non-null  object\n",
      " 6   fwd_pkts_tot              123117 non-null  object\n",
      " 7   bwd_pkts_tot              123117 non-null  object\n",
      " 8   fwd_data_pkts_tot         123117 non-null  object\n",
      " 9   bwd_data_pkts_tot         123117 non-null  object\n",
      " 10  fwd_pkts_per_sec          123117 non-null  object\n",
      " 11  bwd_pkts_per_sec          123117 non-null  object\n",
      " 12  flow_pkts_per_sec         123117 non-null  object\n",
      " 13  down_up_ratio             123117 non-null  object\n",
      " 14  fwd_header_size_tot       123117 non-null  object\n",
      " 15  fwd_header_size_min       123117 non-null  object\n",
      " 16  fwd_header_size_max       123117 non-null  object\n",
      " 17  bwd_header_size_tot       123117 non-null  object\n",
      " 18  bwd_header_size_min       123117 non-null  object\n",
      " 19  bwd_header_size_max       123117 non-null  object\n",
      " 20  flow_FIN_flag_count       123117 non-null  object\n",
      " 21  flow_SYN_flag_count       123117 non-null  object\n",
      " 22  flow_RST_flag_count       123117 non-null  object\n",
      " 23  fwd_PSH_flag_count        123117 non-null  object\n",
      " 24  bwd_PSH_flag_count        123117 non-null  object\n",
      " 25  flow_ACK_flag_count       123117 non-null  object\n",
      " 26  fwd_URG_flag_count        123117 non-null  object\n",
      " 27  bwd_URG_flag_count        123117 non-null  object\n",
      " 28  flow_CWR_flag_count       123117 non-null  object\n",
      " 29  flow_ECE_flag_count       123117 non-null  object\n",
      " 30  fwd_pkts_payload.min      123117 non-null  object\n",
      " 31  fwd_pkts_payload.max      123117 non-null  object\n",
      " 32  fwd_pkts_payload.tot      123117 non-null  object\n",
      " 33  fwd_pkts_payload.avg      123117 non-null  object\n",
      " 34  fwd_pkts_payload.std      123117 non-null  object\n",
      " 35  bwd_pkts_payload.min      123117 non-null  object\n",
      " 36  bwd_pkts_payload.max      123117 non-null  object\n",
      " 37  bwd_pkts_payload.tot      123117 non-null  object\n",
      " 38  bwd_pkts_payload.avg      123117 non-null  object\n",
      " 39  bwd_pkts_payload.std      123117 non-null  object\n",
      " 40  flow_pkts_payload.min     123117 non-null  object\n",
      " 41  flow_pkts_payload.max     123117 non-null  object\n",
      " 42  flow_pkts_payload.tot     123117 non-null  object\n",
      " 43  flow_pkts_payload.avg     123117 non-null  object\n",
      " 44  flow_pkts_payload.std     123117 non-null  object\n",
      " 45  fwd_iat.min               123117 non-null  object\n",
      " 46  fwd_iat.max               123117 non-null  object\n",
      " 47  fwd_iat.tot               123117 non-null  object\n",
      " 48  fwd_iat.avg               123117 non-null  object\n",
      " 49  fwd_iat.std               123117 non-null  object\n",
      " 50  bwd_iat.min               123117 non-null  object\n",
      " 51  bwd_iat.max               123117 non-null  object\n",
      " 52  bwd_iat.tot               123117 non-null  object\n",
      " 53  bwd_iat.avg               123117 non-null  object\n",
      " 54  bwd_iat.std               123117 non-null  object\n",
      " 55  flow_iat.min              123117 non-null  object\n",
      " 56  flow_iat.max              123117 non-null  object\n",
      " 57  flow_iat.tot              123117 non-null  object\n",
      " 58  flow_iat.avg              123117 non-null  object\n",
      " 59  flow_iat.std              123117 non-null  object\n",
      " 60  payload_bytes_per_second  123117 non-null  object\n",
      " 61  fwd_subflow_pkts          123117 non-null  object\n",
      " 62  bwd_subflow_pkts          123117 non-null  object\n",
      " 63  fwd_subflow_bytes         123117 non-null  object\n",
      " 64  bwd_subflow_bytes         123117 non-null  object\n",
      " 65  fwd_bulk_bytes            123117 non-null  object\n",
      " 66  bwd_bulk_bytes            123117 non-null  object\n",
      " 67  fwd_bulk_packets          123117 non-null  object\n",
      " 68  bwd_bulk_packets          123117 non-null  object\n",
      " 69  fwd_bulk_rate             123117 non-null  object\n",
      " 70  bwd_bulk_rate             123117 non-null  object\n",
      " 71  active.min                123117 non-null  object\n",
      " 72  active.max                123117 non-null  object\n",
      " 73  active.tot                123117 non-null  object\n",
      " 74  active.avg                123117 non-null  object\n",
      " 75  active.std                123117 non-null  object\n",
      " 76  idle.min                  123117 non-null  object\n",
      " 77  idle.max                  123117 non-null  object\n",
      " 78  idle.tot                  123117 non-null  object\n",
      " 79  idle.avg                  123117 non-null  object\n",
      " 80  idle.std                  123117 non-null  object\n",
      " 81  fwd_init_window_size      123117 non-null  object\n",
      " 82  bwd_init_window_size      123117 non-null  object\n",
      " 83  fwd_last_window_size      123117 non-null  object\n",
      " 84  Attack_type               123117 non-null  object\n",
      "dtypes: object(85)\n",
      "memory usage: 79.8+ MB\n"
     ]
    }
   ],
   "source": [
    "iot_df.info()"
   ]
  },
  {
   "cell_type": "code",
   "execution_count": 8,
   "id": "1d33432f-b46b-4fd3-9d41-f219494f66db",
   "metadata": {},
   "outputs": [
    {
     "name": "stdout",
     "output_type": "stream",
     "text": [
      "<class 'pandas.core.frame.DataFrame'>\n",
      "RangeIndex: 1185278 entries, 0 to 1185277\n",
      "Data columns (total 85 columns):\n",
      " #   Column                    Non-Null Count    Dtype         \n",
      "---  ------                    --------------    -----         \n",
      " 0   ID                        1185278 non-null  object        \n",
      " 1   ip_src                    1185278 non-null  object        \n",
      " 2   id.orig_p                 1185278 non-null  int64         \n",
      " 3   ip_dst                    1185278 non-null  object        \n",
      " 4   id.resp_p                 1185278 non-null  int64         \n",
      " 5   proto                     1185278 non-null  category      \n",
      " 6   timestamp                 1185278 non-null  datetime64[ns]\n",
      " 7   flow_duration             1185278 non-null  float64       \n",
      " 8   fwd_pkts_tot              1185278 non-null  int64         \n",
      " 9   bwd_pkts_tot              1185278 non-null  int64         \n",
      " 10  fwd_pkts_payload.tot      1185278 non-null  float64       \n",
      " 11  bwd_pkts_payload.tot      1185278 non-null  float64       \n",
      " 12  fwd_pkts_payload.max      1185278 non-null  float64       \n",
      " 13  fwd_pkts_payload.min      1185278 non-null  float64       \n",
      " 14  fwd_pkts_payload.avg      1185278 non-null  float64       \n",
      " 15  fwd_pkts_payload.std      1185278 non-null  float64       \n",
      " 16  bwd_pkts_payload.max      1185278 non-null  float64       \n",
      " 17  bwd_pkts_payload.min      1185278 non-null  float64       \n",
      " 18  bwd_pkts_payload.avg      1185278 non-null  float64       \n",
      " 19  bwd_pkts_payload.std      1185278 non-null  float64       \n",
      " 20  payload_bytes_per_second  1185278 non-null  float64       \n",
      " 21  flow_pkts_per_sec         1185278 non-null  float64       \n",
      " 22  flow_iat.avg              1185278 non-null  float64       \n",
      " 23  flow_iat.std              1185278 non-null  float64       \n",
      " 24  flow_iat.max              1185278 non-null  float64       \n",
      " 25  flow_iat.min              1185278 non-null  float64       \n",
      " 26  fwd_iat.tot               1185278 non-null  float64       \n",
      " 27  fwd_iat.avg               1185278 non-null  float64       \n",
      " 28  fwd_iat.std               1185278 non-null  float64       \n",
      " 29  fwd_iat.max               1185278 non-null  float64       \n",
      " 30  fwd_iat.min               1185278 non-null  float64       \n",
      " 31  bwd_iat.tot               1185278 non-null  float64       \n",
      " 32  bwd_iat.avg               1185278 non-null  float64       \n",
      " 33  bwd_iat.std               1185278 non-null  float64       \n",
      " 34  bwd_iat.max               1185278 non-null  float64       \n",
      " 35  bwd_iat.min               1185278 non-null  float64       \n",
      " 36  fwd_PSH_flag_count        1185278 non-null  int64         \n",
      " 37  bwd_PSH_flag_count        1185278 non-null  int64         \n",
      " 38  fwd_URG_flag_count        1185278 non-null  int64         \n",
      " 39  bwd_URG_flag_count        1185278 non-null  int64         \n",
      " 40  fwd_header_size_tot       1185278 non-null  int64         \n",
      " 41  bwd_header_size_tot       1185278 non-null  int64         \n",
      " 42  fwd_pkts_per_sec          1185278 non-null  float64       \n",
      " 43  bwd_pkts_per_sec          1185278 non-null  float64       \n",
      " 44  flow_pkts_payload.min     1185278 non-null  float64       \n",
      " 45  flow_pkts_payload.max     1185278 non-null  float64       \n",
      " 46  flow_pkts_payload.avg     1185278 non-null  float64       \n",
      " 47  flow_pkts_payload.std     1185278 non-null  float64       \n",
      " 48  flow_FIN_flag_count       1185278 non-null  int64         \n",
      " 49  flow_SYN_flag_count       1185278 non-null  int64         \n",
      " 50  flow_RST_flag_count       1185278 non-null  int64         \n",
      " 51  flow_PSH_flag_count       1185278 non-null  int64         \n",
      " 52  flow_ACK_flag_count       1185278 non-null  int64         \n",
      " 53  flow_URG_flag_count       1185278 non-null  int64         \n",
      " 54  flow_CWR_flag_count       1185278 non-null  int64         \n",
      " 55  flow_ECE_flag_count       1185278 non-null  int64         \n",
      " 56  down_up_ratio             1185278 non-null  float64       \n",
      " 57  flow_pkts_size.avg        1185278 non-null  float64       \n",
      " 58  fwd_pkts_size.avg         1185278 non-null  float64       \n",
      " 59  bwd_pkts_size.avg         1185278 non-null  float64       \n",
      " 60  fwd_bulk_bytes            1185278 non-null  int64         \n",
      " 61  fwd_bulk_packets          1185278 non-null  int64         \n",
      " 62  fwd_bulk_rate             1185278 non-null  int64         \n",
      " 63  bwd_bulk_bytes            1185278 non-null  int64         \n",
      " 64  bwd_bulk_packets          1185278 non-null  int64         \n",
      " 65  bwd_bulk_rate             1185278 non-null  int64         \n",
      " 66  fwd_subflow_pkts          1185278 non-null  int64         \n",
      " 67  fwd_subflow_bytes         1185278 non-null  int64         \n",
      " 68  bwd_subflow_pkts          1185278 non-null  int64         \n",
      " 69  bwd_subflow_bytes         1185278 non-null  int64         \n",
      " 70  fwd_init_window_size      1185278 non-null  int64         \n",
      " 71  bwd_init_window_size      1185278 non-null  int64         \n",
      " 72  fwd_data_pkts_tot         1185278 non-null  int64         \n",
      " 73  fwd_pkts_size.min         1185278 non-null  int64         \n",
      " 74  active.avg                1185278 non-null  float64       \n",
      " 75  active.std                1185278 non-null  float64       \n",
      " 76  active.max                1185278 non-null  float64       \n",
      " 77  active.min                1185278 non-null  float64       \n",
      " 78  idle.avg                  1185278 non-null  float64       \n",
      " 79  idle.std                  1185278 non-null  float64       \n",
      " 80  idle.max                  1185278 non-null  float64       \n",
      " 81  idle.min                  1185278 non-null  float64       \n",
      " 82  Attack_type               1185278 non-null  object        \n",
      " 83  flow_pkts_payload.tot     1185278 non-null  float64       \n",
      " 84  flow_iat.tot              1185278 non-null  float64       \n",
      "dtypes: category(1), datetime64[ns](1), float64(47), int64(32), object(4)\n",
      "memory usage: 760.7+ MB\n"
     ]
    }
   ],
   "source": [
    "# Supplementary data import\n",
    "local_file = True\n",
    "save_locally = True\n",
    "\n",
    "full_dataset = ['BenignTraffic.pcap_Flow']\n",
    "random_sample_size = 10000\n",
    "\n",
    "include_dir = None\n",
    "include_files = None\n",
    "drive_folder_id = '1sPl6Pu8M2KNwefJHdm6NfJ5fnatzbDjf'\n",
    "dataset_folder = os.path.join(os.getcwd(), 'CIC IoT-IDAD Dataset 2024')\n",
    "\n",
    "def list_files_in_directory(directory, file_extension, include_dir = None, exclude_dir = None, include_files = None):\n",
    "\n",
    "    dir_tree = list(os.walk(directory))\n",
    "    \n",
    "    if include_dir is None:\n",
    "        include_dir = [root.split('/')[-1] for root, dir_, file in dir_tree]\n",
    "\n",
    "    if not isinstance(include_dir, list):\n",
    "        include_dir = [include_dir]\n",
    "\n",
    "    if not isinstance(exclude_dir, list):\n",
    "        exclude_dir = [exclude_dir]\n",
    "\n",
    "    if include_files is None:\n",
    "        include_files = [file for root, dir_, file in dir_tree]\n",
    "        include_files = [file for item in include_files for file in (item if isinstance(item, list) else [item])]\n",
    "\n",
    "    if not isinstance(include_files, list):\n",
    "        include_files = [include_files]\n",
    "        \n",
    "    data_files = []\n",
    "    include_dir = set(include_dir).difference(set(exclude_dir))\n",
    "    \n",
    "    for root, dirs, files in dir_tree:\n",
    "        if root.split('/')[-1] in include_dir:\n",
    "            for file in files:\n",
    "                if file.lower().endswith(file_extension.lower()) and file in include_files:\n",
    "                    file_path = os.path.join(root, file)\n",
    "                    data_files.append((file.replace(file_extension, '').translate(str.maketrans('', '', '0123456789')), file_path))\n",
    "\n",
    "    return data_files\n",
    "\n",
    "if local_file:\n",
    "\n",
    "    data_files = list_files_in_directory(dataset_folder, '.csv', exclude_dir = 'Device Identification', include_dir = include_dir)\n",
    "    file_count = 0\n",
    "\n",
    "    for name, file in data_files:\n",
    "\n",
    "        if file_count == 0:\n",
    "            iot_df2 = pd.read_csv(file)\n",
    "            if name not in full_dataset:\n",
    "                iot_df2 = iot_df2.sample(min(iot_df2.shape[0], random_sample_size), replace = False)\n",
    "            iot_df2.loc[:, 'Label'] = name\n",
    "        else:\n",
    "            iot_df2_t = pd.read_csv(file)\n",
    "            if name not in full_dataset:\n",
    "                iot_df2_t = iot_df2_t.sample(min(iot_df2_t.shape[0], random_sample_size), replace = False)\n",
    "            iot_df2_t.loc[:, 'Label'] = name\n",
    "            iot_df2 = pd.concat([iot_df2, iot_df2_t], axis = 0, ignore_index = True)\n",
    "            \n",
    "        file_count += 1\n",
    "    \n",
    "else:\n",
    "\n",
    "    # Authenticate\n",
    "    gauth = GoogleAuth()\n",
    "    gauth.LoadClientConfigFile('client_secret_877315538591-lf4e137q655jcdvdpvmk3r3nt99co4ld.apps.googleusercontent.com.json')\n",
    "    gauth.CommandLineAuth()\n",
    "    drive = GoogleDrive(gauth)\n",
    "\n",
    "    def gdrive_list_all_subfolders(drive_folder_id):\n",
    "        \n",
    "        query = f\"'{drive_folder_id}' in parents and mimeType='application/vnd.google-apps.folder' and trashed=false\"\n",
    "        folder_list = drive.ListFile({'q': query}).GetList()\n",
    "        all_folder_ids = [drive_folder_id] + [f['id'] for f in folder_list]\n",
    "    \n",
    "        # Recursively find subfolders\n",
    "        for folder in folder_list:\n",
    "            all_folder_ids.extend(gdrive_list_all_subfolders(folder['id']))\n",
    "            \n",
    "        return all_folder_ids\n",
    "\n",
    "    folder_ids = gdrive_list_all_subfolders(folder_id)\n",
    "    folder_conditions = \" or \".join([f\"'{fid}' in parents\" for fid in folder_ids])\n",
    "    query = f\"({folder_conditions}) and mimeType='text/csv' and trashed=false\"\n",
    "    file_list = drive.ListFile({'q': query}).GetList()\n",
    "\n",
    "    if include_files is None:\n",
    "        include_dir = [dfile['title'] for dfile in file_list]\n",
    "\n",
    "    if not isinstance(include_files, list):\n",
    "        include_files = [include_files]\n",
    "        \n",
    "    file_count = 0\n",
    "    \n",
    "    for dfile in file_list:\n",
    "\n",
    "        if dfile in include_dir:\n",
    "            \n",
    "            file = drive.CreateFile({'id': dfile['id']})\n",
    "        \n",
    "            if save_locally:\n",
    "    \n",
    "                folder = drive.CreateFile({'id': dfile['parents']['id']})\n",
    "                folder.FetchMetadata(fields = 'title')\n",
    "                folder_path = folder.get('title')\n",
    "    \n",
    "                if not os.path.exists(os.path.join(dataset_folder, folder_path)):\n",
    "                     os.makedirs(os.path.join(dataset_folder, folder_path))\n",
    "                \n",
    "                file.GetContentFile(os.path.join(dataset_folder, folder_path, dfile['title']))\n",
    "    \n",
    "            if file_count == 0:\n",
    "                iot_df2 = file.GetContentString()\n",
    "                iot_df2 = pd.read_csv(pd.StringIO(iot_df2))\n",
    "                name = dfile['title'].replace('.' + dfile['fileExtension'], '').translate(str.maketrans('', '', '0123456789'))\n",
    "                if name not in full_dataset:\n",
    "                    iot_df2 = iot_df2.sample(min(iot_df2.shape[0], random_sample_size), replace = False)\n",
    "                iot_df2['Label'] = name\n",
    "            else:\n",
    "                iot_df2_t = file.GetContentString()\n",
    "                iot_df2_t = pd.read_csv(pd.StringIO(iot_df2_t))\n",
    "                name = dfile['title'].replace('.' + dfile['fileExtension'], '').translate(str.maketrans('', '', '0123456789'))\n",
    "                if name not in full_dataset:\n",
    "                    iot_df2_t = iot_df2_t.sample(min(iot_df2_t.shape[0], random_sample_size), replace = False)\n",
    "                iot_df2_t['Label'] = name\n",
    "                iot_df2 = pd.concat([iot_df2, iot_df2_t], axis = 0, ignore_index = True)\n",
    "                \n",
    "            file_count += 1\n",
    "\n",
    "\n",
    "feature_name_mapping = {\n",
    "    \n",
    "    'Flow ID' : 'ID',\n",
    "    'Src IP' : 'ip_src',\n",
    "    'Src Port' : 'id.orig_p',\n",
    "    'Dst IP' : 'ip_dst',\n",
    "    'Dst Port' : 'id.resp_p',\n",
    "    'Protocol' : 'proto',\n",
    "    'Timestamp'\t: 'timestamp',\n",
    "    'Flow Duration'\t: 'flow_duration',\n",
    "    'Total Fwd Packet' : 'fwd_pkts_tot',\n",
    "    'Total Bwd packets' : 'bwd_pkts_tot',\n",
    "    'Total Length of Fwd Packet' : 'fwd_pkts_payload.tot',     \n",
    "    'Total Length of Bwd Packet' : 'bwd_pkts_payload.tot',     \n",
    "    'Fwd Packet Length Max' : 'fwd_pkts_payload.max',     \n",
    "    'Fwd Packet Length Min' : 'fwd_pkts_payload.min',     \n",
    "    'Fwd Packet Length Mean' : 'fwd_pkts_payload.avg',     \n",
    "    'Fwd Packet Length Std' : 'fwd_pkts_payload.std',     \n",
    "    'Bwd Packet Length Max' : 'bwd_pkts_payload.max',     \n",
    "    'Bwd Packet Length Min' : 'bwd_pkts_payload.min',     \n",
    "    'Bwd Packet Length Mean' : 'bwd_pkts_payload.avg',     \n",
    "    'Bwd Packet Length Std' : 'bwd_pkts_payload.std',     \n",
    "    'Flow Bytes/s' : 'payload_bytes_per_second',\n",
    "    'Flow Packets/s' : 'flow_pkts_per_sec',\n",
    "    'Flow IAT Mean' : 'flow_iat.avg',\n",
    "    'Flow IAT Std' : 'flow_iat.std',\n",
    "    'Flow IAT Max' : 'flow_iat.max',\n",
    "    'Flow IAT Min' : 'flow_iat.min',\n",
    "    'Fwd IAT Total' : 'fwd_iat.tot',\n",
    "    'Fwd IAT Mean' : 'fwd_iat.avg',\n",
    "    'Fwd IAT Std' : 'fwd_iat.std',\n",
    "    'Fwd IAT Max' : 'fwd_iat.max',\n",
    "    'Fwd IAT Min' : 'fwd_iat.min',\n",
    "    'Bwd IAT Total' : 'bwd_iat.tot',\n",
    "    'Bwd IAT Mean' : 'bwd_iat.avg',\n",
    "    'Bwd IAT Std' : 'bwd_iat.std',\n",
    "    'Bwd IAT Max' : 'bwd_iat.max',\n",
    "    'Bwd IAT Min' : 'bwd_iat.min',\n",
    "    'Fwd PSH Flags' : 'fwd_PSH_flag_count',\n",
    "    'Bwd PSH Flags' : 'bwd_PSH_flag_count',\n",
    "    'Fwd URG Flags' : 'fwd_URG_flag_count',\n",
    "    'Bwd URG Flags' : 'bwd_URG_flag_count',\n",
    "    'Fwd Header Length' : 'fwd_header_size_tot',\n",
    "    'Bwd Header Length' : 'bwd_header_size_tot',\n",
    "    'Fwd Packets/s' : 'fwd_pkts_per_sec',\n",
    "    'Bwd Packets/s' : 'bwd_pkts_per_sec',\n",
    "    'Packet Length Min' : 'flow_pkts_payload.min',\n",
    "    'Packet Length Max' : 'flow_pkts_payload.max',\n",
    "    'Packet Length Mean' : 'flow_pkts_payload.avg',\n",
    "    'Packet Length Std' : 'flow_pkts_payload.std',\n",
    "    'Packet Length Variance' : None,\n",
    "    'FIN Flag Count' : 'flow_FIN_flag_count',\n",
    "    'SYN Flag Count' : 'flow_SYN_flag_count',\n",
    "    'RST Flag Count' : 'flow_RST_flag_count',\n",
    "    'PSH Flag Count' : 'flow_PSH_flag_count',\n",
    "    'ACK Flag Count' : 'flow_ACK_flag_count',\n",
    "    'URG Flag Count' : 'flow_URG_flag_count',\n",
    "    'CWR Flag Count' : 'flow_CWR_flag_count',\n",
    "    'ECE Flag Count' : 'flow_ECE_flag_count',\n",
    "    'Down/Up Ratio'\t: 'down_up_ratio',\n",
    "    'Average Packet Size' : 'flow_pkts_size.avg',\n",
    "    'Fwd Segment Size Avg' : 'fwd_pkts_size.avg',\n",
    "    'Bwd Segment Size Avg' : 'bwd_pkts_size.avg',\n",
    "    'Fwd Bytes/Bulk Avg' : 'fwd_bulk_bytes',\n",
    "    'Fwd Packet/Bulk Avg' : 'fwd_bulk_packets',\n",
    "    'Fwd Bulk Rate Avg' : 'fwd_bulk_rate',\n",
    "    'Bwd Bytes/Bulk Avg' : 'bwd_bulk_bytes',\n",
    "    'Bwd Packet/Bulk Avg' : 'bwd_bulk_packets',\n",
    "    'Bwd Bulk Rate Avg' : 'bwd_bulk_rate',\n",
    "    'Subflow Fwd Packets' : 'fwd_subflow_pkts',\n",
    "    'Subflow Fwd Bytes' : 'fwd_subflow_bytes',\n",
    "    'Subflow Bwd Packets' : 'bwd_subflow_pkts',\n",
    "    'Subflow Bwd Bytes' : 'bwd_subflow_bytes',\n",
    "    'FWD Init Win Bytes' : 'fwd_init_window_size',\n",
    "    'Bwd Init Win Bytes' : 'bwd_init_window_size',\n",
    "    'Fwd Act Data Pkts' : 'fwd_data_pkts_tot',      \n",
    "    'Fwd Seg Size Min' : 'fwd_pkts_size.min',\n",
    "    'Active Mean' : 'active.avg',\n",
    "    'Active Std' : 'active.std',\n",
    "    'Active Max' : 'active.max',\n",
    "    'Active Min' : 'active.min',\n",
    "    'Idle Mean' : 'idle.avg',\n",
    "    'Idle Std' : 'idle.std',\n",
    "    'Idle Max' : 'idle.max',\n",
    "    'Idle Min' : 'idle.min',\n",
    "    'Label' : 'Attack_type'\n",
    "    \n",
    "}\n",
    "\n",
    "iot_df2.drop(columns = [key for key, value in feature_name_mapping.items() if value is None], inplace = True)\n",
    "iot_df2.rename(columns = {key : value for key, value in feature_name_mapping.items() if value is not None}, inplace = True)\n",
    "\n",
    "iot_df2['flow_pkts_per_sec'] = iot_df2['flow_pkts_per_sec'].replace([np.inf, -np.inf], np.nan).fillna(0)\n",
    "iot_df2['payload_bytes_per_second'] = iot_df2['payload_bytes_per_second'].replace([np.inf, -np.inf], np.nan).fillna(0)\n",
    "\n",
    "iot_df2['proto'] = iot_df2['proto'].map({0 : 'unspecified', 6 : 'tcp', 17 : 'udp'}).astype('category')\n",
    "iot_df2['flow_duration'] = iot_df2['flow_duration'] / 1000000\n",
    "iot_df2['flow_pkts_payload.tot'] = iot_df2['flow_pkts_payload.avg'] * \\\n",
    "                                       (iot_df2['flow_pkts_per_sec'] * iot_df2['flow_duration']).fillna(0).astype('int64')\n",
    "iot_df2['flow_iat.tot'] = iot_df2['flow_iat.avg'] * ((iot_df2['flow_pkts_per_sec'] * iot_df2['flow_duration']).astype('int64') - 1)\n",
    "\n",
    "iot_df2['timestamp'] = pd.to_datetime(iot_df2['timestamp'], format = '%d/%m/%Y %I:%M:%S %p') + \\\n",
    "                            pd.to_timedelta(iot_df2.assign(ones = 0.00000001) \\\n",
    "                                .groupby(['Attack_type', 'ip_dst'], as_index = False, observed = False)['ones'].cumsum(), unit = 's')\n",
    "\n",
    "iot_df2.info()"
   ]
  },
  {
   "cell_type": "code",
   "execution_count": 13,
   "id": "e6a8fb60-d41e-4f17-bf0f-b495861dde40",
   "metadata": {},
   "outputs": [],
   "source": [
    "object_columns = ['proto', 'service', 'Attack_type', 'ID', 'id.orig_p', 'id.resp_p']\n",
    "\n",
    "iot_dtypes = \\\n",
    "    {col : 'object' for col in object_columns} | \\\n",
    "    {col : 'int64' for col in [key for key, value in (iot_df[[col for col in iot_df.columns if col not in \\\n",
    "                        object_columns]].astype('str').max().str.contains('|'.join(['\\\\.', 'e']))) \\\n",
    "                                   .to_dict().items() if not value]} | \\\n",
    "    {col : 'float64' for col in [key for key, value in (iot_df[[col for col in iot_df.columns if col not in \\\n",
    "                        object_columns]].astype('str').max().str.contains('|'.join(['\\\\.', 'e']))) \\\n",
    "                                   .to_dict().items() if value]}\n"
   ]
  },
  {
   "cell_type": "code",
   "execution_count": 14,
   "id": "8c01524e-2621-41fa-a641-e5d363cba353",
   "metadata": {},
   "outputs": [],
   "source": [
    "iot_df = iot_df.astype(iot_dtypes)\n",
    "\n",
    "iot_df.insert(5, 'timestamp', pd.Timestamp(datetime.datetime.now()) + \\\n",
    "    pd.to_timedelta(iot_df.assign(ones = 1, flow_duration_shifted = \\\n",
    "                    iot_df.groupby(['Attack_type', 'id.resp_p'], as_index = False,\n",
    "                                   observed = False)['flow_duration'].shift(1).fillna(0)) \\\n",
    "                        .groupby(['Attack_type', 'id.resp_p'], as_index = False, observed = False) \\\n",
    "                            [['flow_duration_shifted', 'ones']].cumsum().sum(axis = 1), unit = 's'))\n",
    "\n",
    "iot_column_dtypes = iot_df.dtypes.to_dict()\n",
    "iot_column_dtypes.update(\n",
    "    iot_df2[\n",
    "        list(set(iot_df2.columns) - set(iot_column_dtypes.keys()))\n",
    "    ].dtypes.to_dict())\n"
   ]
  },
  {
   "cell_type": "code",
   "execution_count": 15,
   "id": "c68fffa2-ac02-4933-9061-85cac65f8d6a",
   "metadata": {},
   "outputs": [],
   "source": [
    "data_truncate_size = 20000\n",
    "\n",
    "traffic_type_mapping = {\n",
    "    'DOS_SYN_Hping' : 'Malicious',\n",
    "    'Thing_Speak' : 'Benign',\n",
    "    'ARP_poisioning' : 'Malicious',\n",
    "    'MQTT_Publish' : 'Benign',\n",
    "    'NMAP_UDP_SCAN' : 'Malicious',\n",
    "    'NMAP_XMAS_TREE_SCAN' : 'Malicious',\n",
    "    'NMAP_OS_DETECTION' : 'Malicious',\n",
    "    'NMAP_TCP_scan' : 'Malicious',\n",
    "    'DDOS_Slowloris' : 'Malicious',\n",
    "    'Wipro_bulb' : 'Benign',\n",
    "    'Metasploit_Brute_Force_SSH' : 'Malicious',\n",
    "    'NMAP_FIN_SCAN' : 'Malicious',\n",
    "    'BenignTraffic.pcap_Flow' : 'Benign'}\n",
    "\n",
    "iot_df = pd.concat([iot_df, iot_df2], axis = 0, ignore_index = True)\n",
    "iot_df['Traffic_type'] = iot_df['Attack_type'].map(traffic_type_mapping, na_action = None).fillna('Malicious')\n",
    "del iot_df2\n",
    "\n",
    "iot_df = iot_df.groupby('Attack_type', group_keys = False) \\\n",
    "    .apply(lambda x: x.assign(Attack_type = x.name).sample(x.shape[0] if x.name in full_dataset \\\n",
    "        else min(x.shape[0], data_truncate_size), replace = False), include_groups = False)\n",
    "iot_df = iot_df.copy()\n"
   ]
  },
  {
   "cell_type": "code",
   "execution_count": 16,
   "id": "0391e861-bc29-4868-8717-811a1f16337a",
   "metadata": {},
   "outputs": [
    {
     "name": "stdout",
     "output_type": "stream",
     "text": [
      "Initial NA columns: 17\n",
      "Post-processing NA columns: 0\n"
     ]
    }
   ],
   "source": [
    "# Second dataset matching\n",
    "\n",
    "print('Initial NA columns:', iot_df.isna().any(axis = 0).sum())\n",
    "\n",
    "iot_df['service'] = iot_df['service'].fillna('-')\n",
    "iot_df['ip_src'] = iot_df['ip_src'].fillna('-')\n",
    "iot_df['ip_dst'] = iot_df['ip_dst'].fillna('-')\n",
    "\n",
    "iot_df['flow_PSH_flag_count'] = iot_df['fwd_PSH_flag_count'] + iot_df['bwd_PSH_flag_count']\n",
    "iot_df['flow_URG_flag_count'] = iot_df['fwd_URG_flag_count'] + iot_df['bwd_URG_flag_count']\n",
    "\n",
    "iot_df['flow_pkts_size.avg'] = np.where(iot_df['flow_pkts_size.avg'].isna() == False, iot_df['flow_pkts_size.avg'],\n",
    "                                           ((iot_df['fwd_header_size_tot'] + iot_df['bwd_header_size_tot']) + \\\n",
    "                                               (iot_df['fwd_pkts_payload.tot'] + iot_df['bwd_pkts_payload.tot'])) / \\\n",
    "                                                (iot_df['fwd_pkts_tot'] + iot_df['bwd_pkts_tot']))\n",
    "\n",
    "iot_df['fwd_pkts_size.avg'] = np.where(iot_df['fwd_pkts_size.avg'].isna() == False, iot_df['fwd_pkts_size.avg'],\n",
    "                                ((iot_df['fwd_header_size_tot']) + (iot_df['fwd_pkts_payload.tot'])) / (iot_df['fwd_pkts_tot'] + 1))\n",
    "\n",
    "iot_df['bwd_pkts_size.avg'] = np.where(iot_df['bwd_pkts_size.avg'].isna() == False, iot_df['bwd_pkts_size.avg'],\n",
    "                                ((iot_df['bwd_header_size_tot']) + (iot_df['bwd_pkts_payload.tot'])) / (iot_df['bwd_pkts_tot'] + 1))\n",
    "\n",
    "iot_df['fwd_pkts_size.min'] = np.where(iot_df['fwd_pkts_size.min'].isna() == False, iot_df['fwd_pkts_size.min'],\n",
    "                                        iot_df['fwd_header_size_min'] + iot_df['fwd_pkts_payload.min'])\n",
    "\n",
    "iot_df.loc[:, iot_df.select_dtypes(include=[np.number]).columns] = \\\n",
    "                    iot_df[iot_df.select_dtypes(include=[np.number]).columns].clip(lower = 0)\n",
    "\n",
    "iot_df = iot_df.copy()\n",
    "\n",
    "imputed_columns = iot_df.columns[iot_df.isna().any(axis = 0).values]\n",
    "\n",
    "# Imputation\n",
    "\n",
    "def conditional_iterative_imputer(df, class_col, estimator = None, impute_cols = None, max_iter = 1, random_state = None):\n",
    "    \n",
    "    df_imputed = df.copy()\n",
    "    imputers = {}\n",
    "\n",
    "    if impute_cols is None:\n",
    "        impute_cols = df.select_dtypes(include = [np.number]).columns.difference([class_col])\n",
    "\n",
    "    # Group by category\n",
    "    for class_val, group_df in df.groupby(class_col):\n",
    "        \n",
    "        sub_df = group_df[impute_cols]\n",
    "\n",
    "        # Record original feature-wise min/max (only from non-missing values)\n",
    "        feature_min = sub_df.min(skipna = True)\n",
    "        feature_max = sub_df.max(skipna = True)\n",
    "\n",
    "        if estimator is None:\n",
    "            estimator = RandomForestRegressor(\n",
    "                n_estimators = 100, max_features = 0.8, random_state = random_state)\n",
    "\n",
    "        imputer = IterativeImputer(\n",
    "            estimator = estimator,\n",
    "            max_iter = max_iter,\n",
    "            sample_posterior = False,\n",
    "            random_state = random_state,\n",
    "            initial_strategy = 'median',\n",
    "            skip_complete = True)\n",
    "\n",
    "        # Fit and transform only if missing values exist\n",
    "        if sub_df.isnull().values.any():\n",
    "            \n",
    "            with warnings.catch_warnings():\n",
    "                warnings.simplefilter('ignore', ConvergenceWarning)\n",
    "                imputed_values = imputer.fit_transform(sub_df)\n",
    "\n",
    "            # Clip imputed values back into original observed range\n",
    "            imputed_df = pd.DataFrame(imputed_values, columns = impute_cols, index = sub_df.index)\n",
    "            \n",
    "            for col in impute_cols:\n",
    "                imputed_df[col] = imputed_df[col].clip(lower = feature_min[col], upper = feature_max[col])\n",
    "\n",
    "            df_imputed.loc[group_df.index, impute_cols] = imputed_df\n",
    "            imputers[class_val] = imputer\n",
    "            \n",
    "        else:\n",
    "            \n",
    "            imputers[class_val] = None\n",
    "\n",
    "    return df_imputed, imputers\n",
    "\n",
    "\n",
    "iot_df, imputers = conditional_iterative_imputer(iot_df, class_col = 'Traffic_type', max_iter = 1, \n",
    "                                estimator = RandomForestRegressor(n_estimators = 100, max_features = 0.8))\n",
    "\n",
    "print('Post-processing NA columns:', iot_df.isna().any(axis = 0).sum())"
   ]
  },
  {
   "cell_type": "code",
   "execution_count": 17,
   "id": "747d2470-b856-4e26-a02f-09e3a1d6384b",
   "metadata": {},
   "outputs": [
    {
     "name": "stdout",
     "output_type": "stream",
     "text": [
      "<class 'pandas.core.frame.DataFrame'>\n",
      "Index: 621084 entries, 18911 to 702917\n",
      "Data columns (total 95 columns):\n",
      " #   Column                    Non-Null Count   Dtype         \n",
      "---  ------                    --------------   -----         \n",
      " 0   ID                        621084 non-null  object        \n",
      " 1   id.orig_p                 621084 non-null  object        \n",
      " 2   id.resp_p                 621084 non-null  object        \n",
      " 3   proto                     621084 non-null  category      \n",
      " 4   service                   621084 non-null  category      \n",
      " 5   timestamp                 621084 non-null  datetime64[ns]\n",
      " 6   flow_duration             621084 non-null  float64       \n",
      " 7   fwd_pkts_tot              621084 non-null  int64         \n",
      " 8   bwd_pkts_tot              621084 non-null  int64         \n",
      " 9   fwd_data_pkts_tot         621084 non-null  int64         \n",
      " 10  bwd_data_pkts_tot         621084 non-null  int64         \n",
      " 11  fwd_pkts_per_sec          621084 non-null  float64       \n",
      " 12  bwd_pkts_per_sec          621084 non-null  float64       \n",
      " 13  flow_pkts_per_sec         621084 non-null  float64       \n",
      " 14  down_up_ratio             621084 non-null  float64       \n",
      " 15  fwd_header_size_tot       621084 non-null  int64         \n",
      " 16  fwd_header_size_min       621084 non-null  int64         \n",
      " 17  fwd_header_size_max       621084 non-null  int64         \n",
      " 18  bwd_header_size_tot       621084 non-null  int64         \n",
      " 19  bwd_header_size_min       621084 non-null  int64         \n",
      " 20  bwd_header_size_max       621084 non-null  int64         \n",
      " 21  flow_FIN_flag_count       621084 non-null  int64         \n",
      " 22  flow_SYN_flag_count       621084 non-null  int64         \n",
      " 23  flow_RST_flag_count       621084 non-null  int64         \n",
      " 24  fwd_PSH_flag_count        621084 non-null  int64         \n",
      " 25  bwd_PSH_flag_count        621084 non-null  int64         \n",
      " 26  flow_ACK_flag_count       621084 non-null  int64         \n",
      " 27  fwd_URG_flag_count        621084 non-null  int64         \n",
      " 28  bwd_URG_flag_count        621084 non-null  int64         \n",
      " 29  flow_CWR_flag_count       621084 non-null  int64         \n",
      " 30  flow_ECE_flag_count       621084 non-null  int64         \n",
      " 31  fwd_pkts_payload.min      621084 non-null  float64       \n",
      " 32  fwd_pkts_payload.max      621084 non-null  float64       \n",
      " 33  fwd_pkts_payload.tot      621084 non-null  float64       \n",
      " 34  fwd_pkts_payload.avg      621084 non-null  float64       \n",
      " 35  fwd_pkts_payload.std      621084 non-null  float64       \n",
      " 36  bwd_pkts_payload.min      621084 non-null  float64       \n",
      " 37  bwd_pkts_payload.max      621084 non-null  float64       \n",
      " 38  bwd_pkts_payload.tot      621084 non-null  float64       \n",
      " 39  bwd_pkts_payload.avg      621084 non-null  float64       \n",
      " 40  bwd_pkts_payload.std      621084 non-null  float64       \n",
      " 41  flow_pkts_payload.min     621084 non-null  float64       \n",
      " 42  flow_pkts_payload.max     621084 non-null  float64       \n",
      " 43  flow_pkts_payload.tot     621084 non-null  float64       \n",
      " 44  flow_pkts_payload.avg     621084 non-null  float64       \n",
      " 45  flow_pkts_payload.std     621084 non-null  float64       \n",
      " 46  fwd_iat.min               621084 non-null  float64       \n",
      " 47  fwd_iat.max               621084 non-null  float64       \n",
      " 48  fwd_iat.tot               621084 non-null  float64       \n",
      " 49  fwd_iat.avg               621084 non-null  float64       \n",
      " 50  fwd_iat.std               621084 non-null  float64       \n",
      " 51  bwd_iat.min               621084 non-null  float64       \n",
      " 52  bwd_iat.max               621084 non-null  float64       \n",
      " 53  bwd_iat.tot               621084 non-null  float64       \n",
      " 54  bwd_iat.avg               621084 non-null  float64       \n",
      " 55  bwd_iat.std               621084 non-null  float64       \n",
      " 56  flow_iat.min              621084 non-null  float64       \n",
      " 57  flow_iat.max              621084 non-null  float64       \n",
      " 58  flow_iat.tot              621084 non-null  float64       \n",
      " 59  flow_iat.avg              621084 non-null  float64       \n",
      " 60  flow_iat.std              621084 non-null  float64       \n",
      " 61  payload_bytes_per_second  621084 non-null  float64       \n",
      " 62  fwd_subflow_pkts          621084 non-null  float64       \n",
      " 63  bwd_subflow_pkts          621084 non-null  float64       \n",
      " 64  fwd_subflow_bytes         621084 non-null  float64       \n",
      " 65  bwd_subflow_bytes         621084 non-null  float64       \n",
      " 66  fwd_bulk_bytes            621084 non-null  float64       \n",
      " 67  bwd_bulk_bytes            621084 non-null  float64       \n",
      " 68  fwd_bulk_packets          621084 non-null  float64       \n",
      " 69  bwd_bulk_packets          621084 non-null  float64       \n",
      " 70  fwd_bulk_rate             621084 non-null  float64       \n",
      " 71  bwd_bulk_rate             621084 non-null  float64       \n",
      " 72  active.min                621084 non-null  float64       \n",
      " 73  active.max                621084 non-null  float64       \n",
      " 74  active.tot                621084 non-null  float64       \n",
      " 75  active.avg                621084 non-null  float64       \n",
      " 76  active.std                621084 non-null  float64       \n",
      " 77  idle.min                  621084 non-null  float64       \n",
      " 78  idle.max                  621084 non-null  float64       \n",
      " 79  idle.tot                  621084 non-null  float64       \n",
      " 80  idle.avg                  621084 non-null  float64       \n",
      " 81  idle.std                  621084 non-null  float64       \n",
      " 82  fwd_init_window_size      621084 non-null  int64         \n",
      " 83  bwd_init_window_size      621084 non-null  int64         \n",
      " 84  fwd_last_window_size      621084 non-null  int64         \n",
      " 85  ip_src                    621084 non-null  object        \n",
      " 86  ip_dst                    621084 non-null  object        \n",
      " 87  flow_PSH_flag_count       621084 non-null  int64         \n",
      " 88  flow_URG_flag_count       621084 non-null  int64         \n",
      " 89  flow_pkts_size.avg        621084 non-null  float64       \n",
      " 90  fwd_pkts_size.avg         621084 non-null  float64       \n",
      " 91  bwd_pkts_size.avg         621084 non-null  float64       \n",
      " 92  fwd_pkts_size.min         621084 non-null  int64         \n",
      " 93  Traffic_type              621084 non-null  category      \n",
      " 94  Attack_type               621084 non-null  category      \n",
      "dtypes: category(4), datetime64[ns](1), float64(59), int64(26), object(5)\n",
      "memory usage: 454.4+ MB\n"
     ]
    }
   ],
   "source": [
    "iot_df = iot_df.astype(iot_column_dtypes)\n",
    "iot_df = iot_df.astype({col : 'category' for col in ['proto', 'service', 'Attack_type', 'Traffic_type']})\n",
    "iot_df = iot_df.copy()\n",
    "iot_df.info()"
   ]
  },
  {
   "cell_type": "markdown",
   "id": "49ece579-f8dc-47da-aab0-dfd23058ccbe",
   "metadata": {},
   "source": [
    "## Feature Engineering"
   ]
  },
  {
   "cell_type": "code",
   "execution_count": 18,
   "id": "8f199d48-a0d1-4f23-8544-1faae0b9a787",
   "metadata": {},
   "outputs": [],
   "source": [
    "# Packet ratio\n",
    "\n",
    "iot_df['flow_pkts_tot'] = (iot_df['flow_pkts_per_sec'] * iot_df['flow_duration']).astype('int64')\n",
    "iot_df['fwd_bwd_pkts_ratio'] = iot_df['fwd_pkts_tot'] / (iot_df['bwd_pkts_tot'] + 1)\n",
    "\n",
    "# Fraction of data\n",
    "\n",
    "iot_df['fwd_data_pkts_share'] = iot_df['fwd_data_pkts_tot'] / (iot_df['fwd_pkts_tot'] + 1)\n",
    "iot_df['bwd_data_pkts_share'] = iot_df['bwd_data_pkts_tot'] / (iot_df['bwd_pkts_tot'] + 1)\n",
    "\n",
    "# Header size ratios\n",
    "\n",
    "iot_df['fwd_header_data_ratio'] = iot_df['fwd_header_size_tot'] / (iot_df['fwd_pkts_payload.tot'] + 1)\n",
    "iot_df['bwd_header_data_ratio'] = iot_df['bwd_header_size_tot'] / (iot_df['fwd_pkts_payload.tot'] + 1)\n",
    "\n",
    "iot_df['fwd_header_size_avg'] = iot_df['fwd_header_size_tot'] / (iot_df['fwd_pkts_tot'] + 1)\n",
    "iot_df['bwd_header_size_avg'] = iot_df['bwd_header_size_tot'] / (iot_df['bwd_pkts_tot'] + 1)\n",
    "\n",
    "iot_df[['fwd_bwd_header_size_ratio', 'fwd_bwd_header_size_min_ratio', 'fwd_bwd_header_size_max_ratio']] = \\\n",
    "    iot_df[['fwd_header_size_tot', 'fwd_header_size_min', 'fwd_header_size_max']] / \\\n",
    "            (iot_df[['bwd_header_size_tot', 'bwd_header_size_min', 'bwd_header_size_max']].values + 1)\n",
    "\n",
    "iot_df = iot_df.copy()\n",
    "\n",
    "# Session flag exhange structure\n",
    "\n",
    "iot_df['flow_flag_count'] = iot_df[['flow_FIN_flag_count', 'flow_SYN_flag_count', 'flow_RST_flag_count',\n",
    "                                    'flow_ACK_flag_count', 'flow_CWR_flag_count', 'fwd_PSH_flag_count', 'bwd_PSH_flag_count',\n",
    "                                    'fwd_URG_flag_count', 'bwd_URG_flag_count', 'flow_ECE_flag_count']].sum(axis = 1)\n",
    "iot_df['flow_flags_per_packets'] = iot_df['flow_flag_count'] / (iot_df['fwd_pkts_tot'] + iot_df['bwd_pkts_tot'] + 1)\n",
    "\n",
    "iot_df[['flow_FIN_flag_share', 'flow_SYN_flag_share', 'flow_RST_flag_share',\n",
    "           'flow_ACK_flag_share', 'flow_CWR_flag_share', 'flow_ECE_flag_count']] = iot_df[['flow_FIN_flag_count', 'flow_SYN_flag_count', \\\n",
    "              'flow_RST_flag_count', 'flow_ACK_flag_count', 'flow_CWR_flag_count', 'flow_ECE_flag_count']] / \\\n",
    "                    (np.expand_dims(iot_df['flow_flag_count'].to_numpy() + 1, axis = 1))\n",
    "\n",
    "iot_df['flow_PSH_flag_share'] = iot_df[['fwd_PSH_flag_count', 'bwd_PSH_flag_count']].sum(axis = 1) / (iot_df['flow_flag_count'] + 1)\n",
    "iot_df['flow_URG_flag_share'] = iot_df[['fwd_URG_flag_count', 'bwd_URG_flag_count']].sum(axis = 1) / (iot_df['flow_flag_count'] + 1)\n",
    "\n",
    "iot_df['flow_FIN_ACK_ratio'] = iot_df['flow_FIN_flag_count'] / (iot_df['flow_ACK_flag_count'] + 1)\n",
    "iot_df['flow_SYN_RST_ratio'] = iot_df['flow_SYN_flag_count'] / (iot_df['flow_RST_flag_count'] + 1)\n",
    "iot_df['fwd_bwd_PSH_ratio'] = iot_df['fwd_PSH_flag_count'] / (iot_df['bwd_PSH_flag_count'] + 1)\n",
    "iot_df['fwd_bwd_URG_ratio'] = iot_df['fwd_URG_flag_count'] / (iot_df['bwd_URG_flag_count'] + 1)\n",
    "\n",
    "iot_df = iot_df.copy()\n",
    "\n",
    "# Packet payload size\n",
    "\n",
    "iot_df[['fwd_bwd_payload_size_min_ratio', 'fwd_bwd_payload_size_max_ratio', 'fwd_bwd_payload_size_ratio',\n",
    "            'fwd_bwd_payload_size_avg_ratio', 'fwd_bwd_payload_size_std_ratio']] = \\\n",
    "    iot_df[['fwd_pkts_payload.min', 'fwd_pkts_payload.max', 'fwd_pkts_payload.tot', 'fwd_pkts_payload.avg', 'fwd_pkts_payload.std']] / \\\n",
    "        (iot_df[['bwd_pkts_payload.min', 'bwd_pkts_payload.max', 'bwd_pkts_payload.tot', 'bwd_pkts_payload.avg',\n",
    "                    'bwd_pkts_payload.std']].values + 1)\n",
    "\n",
    "iot_df[['fwd_PSH_payload_per_flag', 'bwd_PSH_payload_per_flag']] = iot_df[['fwd_pkts_payload.avg', 'bwd_pkts_payload.avg']] / \\\n",
    "                                                                       (iot_df[['fwd_PSH_flag_count', 'bwd_PSH_flag_count']].values + 1)\n",
    "\n",
    "iot_df = iot_df.copy()\n",
    "\n",
    "# Inter-arrival time\n",
    "\n",
    "iot_df[['fwd_payload_per_iat', 'bwd_payload_per_iat']] = iot_df[['fwd_pkts_payload.avg', 'bwd_pkts_payload.avg']] / \\\n",
    "                                                                        (iot_df[['fwd_iat.avg', 'bwd_iat.avg']].values + 1)\n",
    "\n",
    "# Subflow and bulk\n",
    "\n",
    "iot_df[['fwd_bwd_subflow_pkts_ratio', 'fwd_bwd_subflow_bytes_ratio', 'fwd_bwd_bulk_bytes_ratio',\n",
    "        'fwd_bwd_bulk_packets_ratio', 'fwd_bwd_bulk_rate_ratio']] = \\\n",
    "    iot_df[['fwd_subflow_pkts', 'fwd_subflow_bytes', 'fwd_bulk_bytes', 'fwd_bulk_packets', 'fwd_bulk_rate']] / \\\n",
    "        (iot_df[['bwd_subflow_pkts', 'bwd_subflow_bytes', 'bwd_bulk_bytes', 'bwd_bulk_packets', 'bwd_bulk_rate']].values + 1)\n",
    "\n",
    "iot_df[['fwd_subflow_pkts_share', 'fwd_subflow_bytes_share', 'fwd_bulk_bytes_share', 'fwd_bulk_packets_share', 'bwd_subflow_pkts_share',\n",
    "            'bwd_subflow_bytes_share', 'bwd_bulk_bytes_share', 'bwd_bulk_packets_share']] = \\\n",
    "    iot_df[['fwd_subflow_pkts', 'fwd_subflow_bytes', 'fwd_bulk_bytes', 'fwd_bulk_packets', 'bwd_subflow_pkts',\n",
    "            'bwd_subflow_bytes', 'bwd_bulk_bytes', 'bwd_bulk_packets']] / \\\n",
    "        (iot_df[['fwd_pkts_tot', 'fwd_pkts_payload.avg', 'fwd_pkts_payload.avg', 'fwd_pkts_tot', \n",
    "                'bwd_pkts_tot', 'bwd_pkts_payload.avg', 'bwd_pkts_payload.avg', 'fwd_pkts_tot']].values + 1)\n",
    "\n",
    "iot_df = iot_df.copy()\n",
    "\n",
    "# Active | Idle times\n",
    "\n",
    "iot_df[['active_events', 'idle_events']] = \\\n",
    "    iot_df[['active.tot', 'idle.tot']] / (iot_df[['active.avg', 'idle.avg']].values + 1)\n",
    "\n",
    "iot_df[['active_cycle']] = \\\n",
    "    iot_df[['active.tot']] / (np.expand_dims(iot_df[['active.tot', 'idle.tot']].sum(axis = 1) + 1, axis = 1))\n",
    "\n",
    "iot_df = iot_df.copy()\n",
    "\n",
    "# Window size\n",
    "\n",
    "iot_df[['fwd_init_window_size_payload', 'bwd_init_window_size_payload', 'fwd_last_window_size_payload']] = \\\n",
    "    iot_df[['fwd_init_window_size', 'bwd_init_window_size', 'fwd_last_window_size']] / \\\n",
    "        (iot_df[['fwd_pkts_payload.avg', 'bwd_pkts_payload.avg', 'fwd_pkts_payload.avg']].values + 1)\n",
    "\n",
    "iot_df['fwd_bwd_window_size'] = iot_df['fwd_init_window_size'] / (iot_df['bwd_init_window_size'] + 1)\n",
    "\n",
    "iot_df['window_size_pos_change'] = np.where(iot_df['fwd_last_window_size'] - iot_df['fwd_init_window_size'] >= 0,\n",
    "                                iot_df['fwd_last_window_size'] - iot_df['fwd_init_window_size'], 0) / (iot_df['fwd_init_window_size'] + 1)\n",
    "iot_df['window_size_neg_change'] = np.where(iot_df['fwd_last_window_size'] - iot_df['fwd_init_window_size'] < 0,\n",
    "                                iot_df['fwd_last_window_size'] - iot_df['fwd_init_window_size'], 0) / (iot_df['fwd_init_window_size'] + 1)\n",
    "\n",
    "iot_df = iot_df.copy()\n",
    "\n",
    "# Skewness, Kurtosis and Range\n",
    "\n",
    "iot_df['fwd_pkts_payload_skewness'] = \\\n",
    "    (iot_df['fwd_pkts_payload.max'] - iot_df['fwd_pkts_payload.avg']) / (iot_df['fwd_pkts_payload.std'] + 1)\n",
    "iot_df['bwd_pkts_payload_skewness'] = \\\n",
    "    (iot_df['bwd_pkts_payload.max'] - iot_df['bwd_pkts_payload.avg']) / (iot_df['bwd_pkts_payload.std'] + 1)\n",
    "iot_df['flow_pkts_payload_skewness'] = \\\n",
    "    (iot_df['flow_pkts_payload.max'] - iot_df['flow_pkts_payload.avg']) / (iot_df['flow_pkts_payload.std'] + 1)\n",
    "iot_df['fwd_iat_skewness'] = (iot_df['fwd_iat.max'] - iot_df['fwd_iat.avg']) / (iot_df['fwd_iat.std'] + 1)\n",
    "iot_df['bwd_iat_skewness'] = (iot_df['bwd_iat.max'] - iot_df['bwd_iat.avg']) / (iot_df['bwd_iat.std'] + 1)\n",
    "iot_df['flow_iat_skewness'] = (iot_df['flow_iat.max'] - iot_df['flow_iat.avg']) / (iot_df['flow_iat.std'] + 1)\n",
    "iot_df['active_skewness'] = (iot_df['active.max'] - iot_df['active.avg']) / (iot_df['active.std'] + 1)\n",
    "iot_df['idle_skewness'] = (iot_df['idle.max'] - iot_df['idle.avg']) / (iot_df['idle.std'] + 1)\n",
    "\n",
    "iot_df = iot_df.copy()\n",
    "\n",
    "iot_df['fwd_pkts_payload_kurtosis'] = \\\n",
    "    ((iot_df['fwd_pkts_payload.max'] - iot_df['fwd_pkts_payload.avg'])**4) / ((iot_df['fwd_pkts_payload.std']**4) + 1)\n",
    "iot_df['bwd_pkts_payload_kurtosis'] = \\\n",
    "    ((iot_df['bwd_pkts_payload.max'] - iot_df['bwd_pkts_payload.avg'])**4) / ((iot_df['bwd_pkts_payload.std']**4) + 1)\n",
    "iot_df['flow_pkts_payload_kurtosis'] = \\\n",
    "    ((iot_df['flow_pkts_payload.max'] - iot_df['flow_pkts_payload.avg'])**4) / ((iot_df['flow_pkts_payload.std']**4) + 1)\n",
    "iot_df['fwd_iat_kurtosis'] = ((iot_df['fwd_iat.max'] - iot_df['fwd_iat.avg'])**4) / ((iot_df['fwd_iat.std']**4) + 1)\n",
    "iot_df['bwd_iat_kurtosis'] = ((iot_df['bwd_iat.max'] - iot_df['bwd_iat.avg'])**4) / ((iot_df['bwd_iat.std']**4) + 1)\n",
    "iot_df['flow_iat_kurtosis'] = ((iot_df['flow_iat.max'] - iot_df['flow_iat.avg'])**4) / ((iot_df['flow_iat.std']**4) + 1)\n",
    "iot_df['active_kurtosis'] = ((iot_df['active.max'] - iot_df['active.avg'])**4) / ((iot_df['active.std']**4) + 1)\n",
    "iot_df['idle_kurtosis'] = ((iot_df['idle.max'] - iot_df['idle.avg'])**4) / ((iot_df['idle.std']**4) + 1)\n",
    "\n",
    "iot_df['fwd_header_size_range'] = iot_df['fwd_header_size_max'] - iot_df['fwd_header_size_min']\n",
    "iot_df['bwd_header_size_range'] = iot_df['bwd_header_size_max'] - iot_df['bwd_header_size_min']\n",
    "iot_df['fwd_pkts_payload_range'] = iot_df['fwd_pkts_payload.max'] - iot_df['fwd_pkts_payload.min']\n",
    "iot_df['bwd_pkts_payload_range'] = iot_df['bwd_pkts_payload.max'] - iot_df['bwd_pkts_payload.min']\n",
    "iot_df['flow_pkts_payload_range'] = iot_df['flow_pkts_payload.max'] - iot_df['flow_pkts_payload.min']\n",
    "iot_df['fwd_iat_range'] = iot_df['fwd_iat.max'] - iot_df['fwd_iat.min']\n",
    "iot_df['bwd_iat_range'] = iot_df['bwd_iat.max'] - iot_df['bwd_iat.min']\n",
    "iot_df['flow_iat_range'] = iot_df['flow_iat.max'] - iot_df['flow_iat.min']\n",
    "iot_df['active_range'] = iot_df['active.max'] - iot_df['active.min']\n",
    "iot_df['idle_range'] = iot_df['idle.max'] - iot_df['idle.min']\n",
    "\n",
    "iot_df = iot_df.copy()\n",
    "\n",
    "# Coefficient of variation\n",
    "\n",
    "iot_df['fwd_pkts_payload_cv'] = iot_df['fwd_pkts_payload.std'] / (iot_df['fwd_pkts_payload.avg'] + 1)\n",
    "iot_df['bwd_pkts_payload_cv'] = iot_df['bwd_pkts_payload.std'] / (iot_df['bwd_pkts_payload.avg'] + 1)\n",
    "iot_df['flow_pkts_payload_cv'] = iot_df['flow_pkts_payload.std'] / (iot_df['flow_pkts_payload.avg'] + 1)\n",
    "iot_df['fwd_iat_cv'] = iot_df['fwd_iat.std'] / (iot_df['fwd_iat.avg'] + 1)\n",
    "iot_df['bwd_iat_cv'] = iot_df['bwd_iat.std'] / (iot_df['bwd_iat.avg'] + 1)\n",
    "iot_df['flow_iat_cv'] = iot_df['flow_iat.std'] / (iot_df['flow_iat.avg'] + 1)\n",
    "iot_df['active_cv'] = iot_df['active.std'] / (iot_df['active.avg'] + 1)\n",
    "iot_df['idle_cv'] = iot_df['idle.std'] / (iot_df['idle.avg'] + 1)\n",
    "\n",
    "iot_df = iot_df.copy()\n"
   ]
  },
  {
   "cell_type": "code",
   "execution_count": 19,
   "id": "d8a9fa8d-f275-4aba-8036-2379596f1568",
   "metadata": {},
   "outputs": [
    {
     "name": "stdout",
     "output_type": "stream",
     "text": [
      "<class 'pandas.core.frame.DataFrame'>\n",
      "Index: 621084 entries, 18911 to 702917\n",
      "Columns: 184 entries, ID to idle_cv\n",
      "dtypes: category(4), datetime64[ns](1), float64(145), int64(29), object(5)\n",
      "memory usage: 876.2+ MB\n"
     ]
    }
   ],
   "source": [
    "iot_df.info()"
   ]
  },
  {
   "cell_type": "code",
   "execution_count": 20,
   "id": "1cea2e84-a756-4378-876b-98646d7d6bb8",
   "metadata": {},
   "outputs": [
    {
     "data": {
      "text/html": [
       "<div>\n",
       "<style scoped>\n",
       "    .dataframe tbody tr th:only-of-type {\n",
       "        vertical-align: middle;\n",
       "    }\n",
       "\n",
       "    .dataframe tbody tr th {\n",
       "        vertical-align: top;\n",
       "    }\n",
       "\n",
       "    .dataframe thead th {\n",
       "        text-align: right;\n",
       "    }\n",
       "</style>\n",
       "<table border=\"1\" class=\"dataframe\">\n",
       "  <thead>\n",
       "    <tr style=\"text-align: right;\">\n",
       "      <th></th>\n",
       "      <th>ID</th>\n",
       "      <th>id.orig_p</th>\n",
       "      <th>id.resp_p</th>\n",
       "      <th>proto</th>\n",
       "      <th>service</th>\n",
       "      <th>timestamp</th>\n",
       "      <th>flow_duration</th>\n",
       "      <th>fwd_pkts_tot</th>\n",
       "      <th>bwd_pkts_tot</th>\n",
       "      <th>fwd_data_pkts_tot</th>\n",
       "      <th>...</th>\n",
       "      <th>active_range</th>\n",
       "      <th>idle_range</th>\n",
       "      <th>fwd_pkts_payload_cv</th>\n",
       "      <th>bwd_pkts_payload_cv</th>\n",
       "      <th>flow_pkts_payload_cv</th>\n",
       "      <th>fwd_iat_cv</th>\n",
       "      <th>bwd_iat_cv</th>\n",
       "      <th>flow_iat_cv</th>\n",
       "      <th>active_cv</th>\n",
       "      <th>idle_cv</th>\n",
       "    </tr>\n",
       "  </thead>\n",
       "  <tbody>\n",
       "    <tr>\n",
       "      <th>18911</th>\n",
       "      <td>6404</td>\n",
       "      <td>57624</td>\n",
       "      <td>5353</td>\n",
       "      <td>udp</td>\n",
       "      <td>dns</td>\n",
       "      <td>2025-05-06 06:12:38.904092000</td>\n",
       "      <td>0.000000</td>\n",
       "      <td>1</td>\n",
       "      <td>0</td>\n",
       "      <td>1</td>\n",
       "      <td>...</td>\n",
       "      <td>0.0</td>\n",
       "      <td>0.0</td>\n",
       "      <td>0.000000</td>\n",
       "      <td>0.000000</td>\n",
       "      <td>0.000000</td>\n",
       "      <td>0.000000</td>\n",
       "      <td>0.000000</td>\n",
       "      <td>0.000000</td>\n",
       "      <td>0.0</td>\n",
       "      <td>0.000000</td>\n",
       "    </tr>\n",
       "    <tr>\n",
       "      <th>14248</th>\n",
       "      <td>1741</td>\n",
       "      <td>57042</td>\n",
       "      <td>443</td>\n",
       "      <td>tcp</td>\n",
       "      <td>ssl</td>\n",
       "      <td>2025-05-06 11:41:41.209732000</td>\n",
       "      <td>5.212789</td>\n",
       "      <td>14</td>\n",
       "      <td>12</td>\n",
       "      <td>4</td>\n",
       "      <td>...</td>\n",
       "      <td>0.0</td>\n",
       "      <td>0.0</td>\n",
       "      <td>2.625582</td>\n",
       "      <td>1.184206</td>\n",
       "      <td>1.665380</td>\n",
       "      <td>3.416417</td>\n",
       "      <td>3.171256</td>\n",
       "      <td>4.694008</td>\n",
       "      <td>0.0</td>\n",
       "      <td>0.000000</td>\n",
       "    </tr>\n",
       "    <tr>\n",
       "      <th>16019</th>\n",
       "      <td>3512</td>\n",
       "      <td>33684</td>\n",
       "      <td>53</td>\n",
       "      <td>udp</td>\n",
       "      <td>dns</td>\n",
       "      <td>2025-05-06 06:28:21.269358000</td>\n",
       "      <td>0.000239</td>\n",
       "      <td>1</td>\n",
       "      <td>1</td>\n",
       "      <td>1</td>\n",
       "      <td>...</td>\n",
       "      <td>0.0</td>\n",
       "      <td>0.0</td>\n",
       "      <td>0.000000</td>\n",
       "      <td>0.000000</td>\n",
       "      <td>0.337808</td>\n",
       "      <td>0.000000</td>\n",
       "      <td>0.000000</td>\n",
       "      <td>0.000000</td>\n",
       "      <td>0.0</td>\n",
       "      <td>0.000000</td>\n",
       "    </tr>\n",
       "    <tr>\n",
       "      <th>17918</th>\n",
       "      <td>5411</td>\n",
       "      <td>42160</td>\n",
       "      <td>137</td>\n",
       "      <td>udp</td>\n",
       "      <td>dns</td>\n",
       "      <td>2025-05-06 05:31:36.011594000</td>\n",
       "      <td>0.000000</td>\n",
       "      <td>1</td>\n",
       "      <td>0</td>\n",
       "      <td>1</td>\n",
       "      <td>...</td>\n",
       "      <td>0.0</td>\n",
       "      <td>0.0</td>\n",
       "      <td>0.000000</td>\n",
       "      <td>0.000000</td>\n",
       "      <td>0.000000</td>\n",
       "      <td>0.000000</td>\n",
       "      <td>0.000000</td>\n",
       "      <td>0.000000</td>\n",
       "      <td>0.0</td>\n",
       "      <td>0.000000</td>\n",
       "    </tr>\n",
       "    <tr>\n",
       "      <th>19111</th>\n",
       "      <td>6604</td>\n",
       "      <td>33232</td>\n",
       "      <td>5353</td>\n",
       "      <td>udp</td>\n",
       "      <td>dns</td>\n",
       "      <td>2025-05-06 06:14:12.925950000</td>\n",
       "      <td>0.000000</td>\n",
       "      <td>1</td>\n",
       "      <td>0</td>\n",
       "      <td>1</td>\n",
       "      <td>...</td>\n",
       "      <td>0.0</td>\n",
       "      <td>0.0</td>\n",
       "      <td>0.000000</td>\n",
       "      <td>0.000000</td>\n",
       "      <td>0.000000</td>\n",
       "      <td>0.000000</td>\n",
       "      <td>0.000000</td>\n",
       "      <td>0.000000</td>\n",
       "      <td>0.0</td>\n",
       "      <td>0.000000</td>\n",
       "    </tr>\n",
       "    <tr>\n",
       "      <th>...</th>\n",
       "      <td>...</td>\n",
       "      <td>...</td>\n",
       "      <td>...</td>\n",
       "      <td>...</td>\n",
       "      <td>...</td>\n",
       "      <td>...</td>\n",
       "      <td>...</td>\n",
       "      <td>...</td>\n",
       "      <td>...</td>\n",
       "      <td>...</td>\n",
       "      <td>...</td>\n",
       "      <td>...</td>\n",
       "      <td>...</td>\n",
       "      <td>...</td>\n",
       "      <td>...</td>\n",
       "      <td>...</td>\n",
       "      <td>...</td>\n",
       "      <td>...</td>\n",
       "      <td>...</td>\n",
       "      <td>...</td>\n",
       "      <td>...</td>\n",
       "    </tr>\n",
       "    <tr>\n",
       "      <th>701224</th>\n",
       "      <td>192.168.137.206-47.112.162.49-11855-32100-17</td>\n",
       "      <td>11855</td>\n",
       "      <td>32100</td>\n",
       "      <td>udp</td>\n",
       "      <td>-</td>\n",
       "      <td>2023-02-14 12:18:33.000000479</td>\n",
       "      <td>0.273950</td>\n",
       "      <td>1</td>\n",
       "      <td>1</td>\n",
       "      <td>0</td>\n",
       "      <td>...</td>\n",
       "      <td>0.0</td>\n",
       "      <td>0.0</td>\n",
       "      <td>0.000000</td>\n",
       "      <td>0.000000</td>\n",
       "      <td>0.893962</td>\n",
       "      <td>0.000000</td>\n",
       "      <td>0.000000</td>\n",
       "      <td>0.000000</td>\n",
       "      <td>0.0</td>\n",
       "      <td>0.000000</td>\n",
       "    </tr>\n",
       "    <tr>\n",
       "      <th>702017</th>\n",
       "      <td>192.168.137.179-35.163.109.225-56306-8883-6</td>\n",
       "      <td>56306</td>\n",
       "      <td>8883</td>\n",
       "      <td>tcp</td>\n",
       "      <td>-</td>\n",
       "      <td>2023-02-14 12:17:46.000000070</td>\n",
       "      <td>62.260812</td>\n",
       "      <td>4</td>\n",
       "      <td>2</td>\n",
       "      <td>1</td>\n",
       "      <td>...</td>\n",
       "      <td>0.0</td>\n",
       "      <td>0.0</td>\n",
       "      <td>1.084719</td>\n",
       "      <td>0.000000</td>\n",
       "      <td>0.653612</td>\n",
       "      <td>1.724381</td>\n",
       "      <td>0.000000</td>\n",
       "      <td>2.227818</td>\n",
       "      <td>0.0</td>\n",
       "      <td>0.000000</td>\n",
       "    </tr>\n",
       "    <tr>\n",
       "      <th>701488</th>\n",
       "      <td>192.168.137.129-224.0.0.251-5353-5353-17</td>\n",
       "      <td>5353</td>\n",
       "      <td>5353</td>\n",
       "      <td>udp</td>\n",
       "      <td>-</td>\n",
       "      <td>2023-02-14 11:47:06.000000300</td>\n",
       "      <td>32.766011</td>\n",
       "      <td>6</td>\n",
       "      <td>0</td>\n",
       "      <td>5</td>\n",
       "      <td>...</td>\n",
       "      <td>0.0</td>\n",
       "      <td>9715791.0</td>\n",
       "      <td>0.366163</td>\n",
       "      <td>0.000000</td>\n",
       "      <td>0.394280</td>\n",
       "      <td>1.153398</td>\n",
       "      <td>0.000000</td>\n",
       "      <td>1.153398</td>\n",
       "      <td>0.0</td>\n",
       "      <td>0.495143</td>\n",
       "    </tr>\n",
       "    <tr>\n",
       "      <th>700062</th>\n",
       "      <td>192.168.137.1-192.168.137.206-53-58945-17</td>\n",
       "      <td>53</td>\n",
       "      <td>58945</td>\n",
       "      <td>udp</td>\n",
       "      <td>-</td>\n",
       "      <td>2023-02-14 12:24:44.000000119</td>\n",
       "      <td>0.011050</td>\n",
       "      <td>1</td>\n",
       "      <td>1</td>\n",
       "      <td>0</td>\n",
       "      <td>...</td>\n",
       "      <td>0.0</td>\n",
       "      <td>0.0</td>\n",
       "      <td>0.000000</td>\n",
       "      <td>0.000000</td>\n",
       "      <td>0.197949</td>\n",
       "      <td>0.000000</td>\n",
       "      <td>0.000000</td>\n",
       "      <td>0.000000</td>\n",
       "      <td>0.0</td>\n",
       "      <td>0.000000</td>\n",
       "    </tr>\n",
       "    <tr>\n",
       "      <th>702917</th>\n",
       "      <td>192.168.137.163-47.254.83.84-52856-1340-6</td>\n",
       "      <td>52856</td>\n",
       "      <td>1340</td>\n",
       "      <td>tcp</td>\n",
       "      <td>-</td>\n",
       "      <td>2023-02-14 12:17:42.000001180</td>\n",
       "      <td>0.227171</td>\n",
       "      <td>3</td>\n",
       "      <td>3</td>\n",
       "      <td>0</td>\n",
       "      <td>...</td>\n",
       "      <td>0.0</td>\n",
       "      <td>0.0</td>\n",
       "      <td>0.000000</td>\n",
       "      <td>0.000000</td>\n",
       "      <td>0.000000</td>\n",
       "      <td>1.393544</td>\n",
       "      <td>1.404350</td>\n",
       "      <td>1.172685</td>\n",
       "      <td>0.0</td>\n",
       "      <td>0.000000</td>\n",
       "    </tr>\n",
       "  </tbody>\n",
       "</table>\n",
       "<p>621084 rows × 184 columns</p>\n",
       "</div>"
      ],
      "text/plain": [
       "                                                  ID id.orig_p id.resp_p  \\\n",
       "18911                                           6404     57624      5353   \n",
       "14248                                           1741     57042       443   \n",
       "16019                                           3512     33684        53   \n",
       "17918                                           5411     42160       137   \n",
       "19111                                           6604     33232      5353   \n",
       "...                                              ...       ...       ...   \n",
       "701224  192.168.137.206-47.112.162.49-11855-32100-17     11855     32100   \n",
       "702017   192.168.137.179-35.163.109.225-56306-8883-6     56306      8883   \n",
       "701488      192.168.137.129-224.0.0.251-5353-5353-17      5353      5353   \n",
       "700062     192.168.137.1-192.168.137.206-53-58945-17        53     58945   \n",
       "702917     192.168.137.163-47.254.83.84-52856-1340-6     52856      1340   \n",
       "\n",
       "       proto service                     timestamp  flow_duration  \\\n",
       "18911    udp     dns 2025-05-06 06:12:38.904092000       0.000000   \n",
       "14248    tcp     ssl 2025-05-06 11:41:41.209732000       5.212789   \n",
       "16019    udp     dns 2025-05-06 06:28:21.269358000       0.000239   \n",
       "17918    udp     dns 2025-05-06 05:31:36.011594000       0.000000   \n",
       "19111    udp     dns 2025-05-06 06:14:12.925950000       0.000000   \n",
       "...      ...     ...                           ...            ...   \n",
       "701224   udp       - 2023-02-14 12:18:33.000000479       0.273950   \n",
       "702017   tcp       - 2023-02-14 12:17:46.000000070      62.260812   \n",
       "701488   udp       - 2023-02-14 11:47:06.000000300      32.766011   \n",
       "700062   udp       - 2023-02-14 12:24:44.000000119       0.011050   \n",
       "702917   tcp       - 2023-02-14 12:17:42.000001180       0.227171   \n",
       "\n",
       "        fwd_pkts_tot  bwd_pkts_tot  fwd_data_pkts_tot  ...  active_range  \\\n",
       "18911              1             0                  1  ...           0.0   \n",
       "14248             14            12                  4  ...           0.0   \n",
       "16019              1             1                  1  ...           0.0   \n",
       "17918              1             0                  1  ...           0.0   \n",
       "19111              1             0                  1  ...           0.0   \n",
       "...              ...           ...                ...  ...           ...   \n",
       "701224             1             1                  0  ...           0.0   \n",
       "702017             4             2                  1  ...           0.0   \n",
       "701488             6             0                  5  ...           0.0   \n",
       "700062             1             1                  0  ...           0.0   \n",
       "702917             3             3                  0  ...           0.0   \n",
       "\n",
       "        idle_range  fwd_pkts_payload_cv  bwd_pkts_payload_cv  \\\n",
       "18911          0.0             0.000000             0.000000   \n",
       "14248          0.0             2.625582             1.184206   \n",
       "16019          0.0             0.000000             0.000000   \n",
       "17918          0.0             0.000000             0.000000   \n",
       "19111          0.0             0.000000             0.000000   \n",
       "...            ...                  ...                  ...   \n",
       "701224         0.0             0.000000             0.000000   \n",
       "702017         0.0             1.084719             0.000000   \n",
       "701488   9715791.0             0.366163             0.000000   \n",
       "700062         0.0             0.000000             0.000000   \n",
       "702917         0.0             0.000000             0.000000   \n",
       "\n",
       "        flow_pkts_payload_cv  fwd_iat_cv  bwd_iat_cv  flow_iat_cv  active_cv  \\\n",
       "18911               0.000000    0.000000    0.000000     0.000000        0.0   \n",
       "14248               1.665380    3.416417    3.171256     4.694008        0.0   \n",
       "16019               0.337808    0.000000    0.000000     0.000000        0.0   \n",
       "17918               0.000000    0.000000    0.000000     0.000000        0.0   \n",
       "19111               0.000000    0.000000    0.000000     0.000000        0.0   \n",
       "...                      ...         ...         ...          ...        ...   \n",
       "701224              0.893962    0.000000    0.000000     0.000000        0.0   \n",
       "702017              0.653612    1.724381    0.000000     2.227818        0.0   \n",
       "701488              0.394280    1.153398    0.000000     1.153398        0.0   \n",
       "700062              0.197949    0.000000    0.000000     0.000000        0.0   \n",
       "702917              0.000000    1.393544    1.404350     1.172685        0.0   \n",
       "\n",
       "         idle_cv  \n",
       "18911   0.000000  \n",
       "14248   0.000000  \n",
       "16019   0.000000  \n",
       "17918   0.000000  \n",
       "19111   0.000000  \n",
       "...          ...  \n",
       "701224  0.000000  \n",
       "702017  0.000000  \n",
       "701488  0.495143  \n",
       "700062  0.000000  \n",
       "702917  0.000000  \n",
       "\n",
       "[621084 rows x 184 columns]"
      ]
     },
     "execution_count": 20,
     "metadata": {},
     "output_type": "execute_result"
    }
   ],
   "source": [
    "iot_df"
   ]
  },
  {
   "cell_type": "code",
   "execution_count": 21,
   "id": "76dfed7d-fa83-4e68-9da3-6117d8b62846",
   "metadata": {},
   "outputs": [
    {
     "data": {
      "text/plain": [
       "<Axes: >"
      ]
     },
     "execution_count": 21,
     "metadata": {},
     "output_type": "execute_result"
    },
    {
     "data": {
      "image/png": "[encoded data removed]",
      "text/plain": [
       "<Figure size 640x480 with 1 Axes>"
      ]
     },
     "metadata": {},
     "output_type": "display_data"
    }
   ],
   "source": [
    "iot_df.select_dtypes(exclude = ['object', 'category', 'datetime64[ns]']).skew(skipna = True, axis = 0).hist()"
   ]
  },
  {
   "cell_type": "code",
   "execution_count": 22,
   "id": "c9459444-f570-49ff-87eb-b92ef880cb70",
   "metadata": {},
   "outputs": [],
   "source": [
    "# Distribution transformation\n",
    "\n",
    "standard_scale = False\n",
    "\n",
    "def boxcox_transform(df, skew_threshold = 3, filter_col = None, filter_val = None, method = 'yeo-johnson'):\n",
    "    \n",
    "    transformed_df = df.copy()\n",
    "    non_var_cols = []\n",
    "    transformers = {}\n",
    "\n",
    "    for col in df.select_dtypes(include=[np.number]).columns:\n",
    "\n",
    "        with warnings.catch_warnings():\n",
    "            warnings.simplefilter('error', RuntimeWarning)\n",
    "            skewness = df[col].skew()\n",
    "\n",
    "        if filter_col is None:\n",
    "            col_data = df[col]\n",
    "            col_data_train = df[col]\n",
    "        else:\n",
    "            col_data = df[col]\n",
    "            col_data_train = df.loc[df[filter_col] == filter_val, col]\n",
    "\n",
    "        if skewness > skew_threshold and (col_data >= 0).all():\n",
    "            try:\n",
    "                if (col_data == 0).any() and method != 'yeo-johnson':\n",
    "                    col_data += 1\n",
    "                    col_data_train += 1\n",
    "\n",
    "                with warnings.catch_warnings():\n",
    "                    warnings.simplefilter('ignore', UserWarning)\n",
    "                    pt = PowerTransformer(method = method, standardize = False)\n",
    "                    pt.fit(col_data_train.values.reshape(-1, 1))\n",
    "                    transformed_values = pt.transform(col_data.values.reshape(-1, 1)).flatten()\n",
    "\n",
    "                if pd.api.types.is_integer_dtype(col_data):\n",
    "                    transformed_df[col] = np.ceil(transformed_values).astype('int64')\n",
    "                else:\n",
    "                    transformed_df[col] = transformed_values\n",
    "\n",
    "                transformers[col] = pt\n",
    "                \n",
    "            except ValueError as e:\n",
    "                print(f\"Box-Cox failed for column '{col}': {e}\")\n",
    "                non_var_cols.append(col)\n",
    "        else:\n",
    "            \n",
    "            transformers[col] = None\n",
    "\n",
    "    return transformed_df, transformers, non_var_cols\n",
    "\n",
    "# Distribution transformation and standard scaling\n",
    "\n",
    "iot_df, dist_transformers, non_var_cols = boxcox_transform(iot_df, skew_threshold = 3,\n",
    "                                                               filter_col = 'Traffic_type', filter_val = 'Benign', method = 'yeo-johnson')\n",
    "\n",
    "scaler = StandardScaler() if standard_scale else MinMaxScaler(feature_range = (0, 1), clip = False)\n",
    "scaling_cols = iot_df.select_dtypes(include=[np.number]).columns.difference(non_var_cols)\n",
    "scaler.fit(iot_df.loc[iot_df['Traffic_type'] == 'Benign', scaling_cols])\n",
    "iot_df[scaling_cols] = scaler.transform(iot_df.loc[:, scaling_cols])\n",
    "\n",
    "iot_df = iot_df.copy()\n",
    "\n",
    "# Label encoding\n",
    "\n",
    "labelEncoder = LabelEncoder()\n",
    "onehotEncoder = OneHotEncoder(drop = ['tcp', '-']).fit(iot_df[['proto', 'service']])\n",
    "iot_df['Attack_type_l'] = labelEncoder.fit_transform(iot_df['Attack_type'])\n",
    "iot_df[onehotEncoder.get_feature_names_out()] = onehotEncoder.transform(iot_df[['proto', 'service']]).toarray()\n",
    "iot_df[iot_df.loc[:, 'Attack_type_l':].columns] = iot_df[iot_df.loc[:, 'Attack_type_l':].columns].astype('int64')\n",
    "iot_df['ID'] = iot_df['ID'] + '-' + iot_df['Attack_type_l'].astype('str') + iot_df.index.astype('str')\n",
    "\n",
    "iot_df = iot_df.copy()\n"
   ]
  },
  {
   "cell_type": "code",
   "execution_count": null,
   "id": "69678345-beae-4d79-82e3-5d9a54dbcd9c",
   "metadata": {},
   "outputs": [],
   "source": [
    "n_components = 3\n",
    "\n",
    "traffic_mix = {\n",
    "    'Benign' : (['BenignTraffic.pcap_Flow', 'Thing_Speak', 'Wipro_bulb', 'MQTT_Publish'], 'Dark2'),\n",
    "    'Scan 1' : (['BenignTraffic.pcap_Flow', 'NMAP_FIN_SCAN', 'NMAP_UDP_SCAN', 'NMAP_XMAS_TREE_SCAN',\n",
    "                     'NMAP_OS_DETECTION', 'NMAP_TCP_scan'], 'Purples'),\n",
    "    'DDoS 1' : (['BenignTraffic.pcap_Flow', 'DOS_SYN_Hping', 'ARP_poisioning', 'DDOS_Slowloris', 'Metasploit_Brute_Force_SSH'], 'Blues'),\n",
    "    'DDoS 2' : (['BenignTraffic.pcap_Flow', 'DDoS-ACK_Fragmentation.pcap_Flow', 'DDoS-ICMP_Flood.pcap_Flow',\n",
    "                    'DDoS-ICMP_Fragmentation.pcap_Flow', 'DDoS-HTTP_Flood-.pcap_Flow'], 'Reds'),\n",
    "    'DoS 2' : (['BenignTraffic.pcap_Flow', 'DoS-HTTP_Flood.pcap_Flow', 'DoS-SYN_Flood.pcap_Flow', 'DoS-UDP_Flood.pcap_Flow',\n",
    "                   'Mirai-greeth_flood.pcap_Flow', 'DictionaryBruteForce.pcap_Flow'], 'spring'),\n",
    "    'Other 2' : (['BenignTraffic.pcap_Flow', 'MITM-ArpSpoofing.pcap_Flow', 'VulnerabilityScan.pcap_Flow', 'DNS_Spoofing.pcap_Flow ',\n",
    "                     'SqlInjection.pcap_Flow', 'XSS.pcap_Flow', 'Uploading_Attack.pcap_Flow'], 'cool')}\n",
    "\n",
    "for traffic_vis in traffic_mix.keys():\n",
    "\n",
    "    traffic_list = traffic_mix[traffic_vis][0]\n",
    "    valid_cols = iot_df.select_dtypes(include = [np.number]).columns \\\n",
    "                    .difference(['Attack_type_l'] + [col for col in iot_df.columns if col.startswith('service_')])\n",
    "    \n",
    "    normal_iot_df = iot_df.loc[iot_df['Traffic_type'] == 'Benign', valid_cols]\n",
    "    \n",
    "    vis_iot_df = \\\n",
    "        iot_df.groupby('Attack_type', group_keys = False, observed = True) \\\n",
    "            .apply(lambda x: x.assign(Attack_type = x.name).sample(3000 if x.name not in \\\n",
    "                ['BenignTraffic.pcap_Flow'] else int(x.shape[0] * 0.05), replace = True), include_groups = False)\n",
    "    \n",
    "    vis_iot_df = vis_iot_df.loc[vis_iot_df['Attack_type'].isin(traffic_list), valid_cols]\n",
    "    Y_class = iot_df.loc[vis_iot_df.index, 'Attack_type']\n",
    "    \n",
    "    # Apply PCA (3 principal components)\n",
    "    pca = PCA(n_components = n_components)\n",
    "    pca.fit(normal_iot_df)\n",
    "    X_pca = pca.fit_transform(vis_iot_df)\n",
    "    \n",
    "    print('PCA completed!')\n",
    "    \n",
    "    # Apply t-SNE\n",
    "    tsne = TSNE(n_components = n_components, perplexity = 30, random_state = 42)\n",
    "    X_tsne = tsne.fit_transform(vis_iot_df)\n",
    "    \n",
    "    print('t-SNE completed!')\n",
    "    \n",
    "    # # Apply UMAP\n",
    "    # umap_reduce = umap.UMAP(n_components = n_components, random_state = 42)\n",
    "    # X_umap = umap_reduce.fit_transform(vis_iot_df)\n",
    "    \n",
    "    # print('UMAP completed!')\n",
    "    \n",
    "    # # Apply Isomap\n",
    "    # isomap = Isomap(n_components = n_components, n_neighbors = 30)\n",
    "    # X_isomap = isomap.fit_transform(vis_iot_df)\n",
    "    \n",
    "    # print('ISOMAP completed!')\n",
    "    \n",
    "    # # Apply Locally Linear Embedding (LLE)\n",
    "    # lle = LocallyLinearEmbedding(n_components = n_components, n_neighbors = 60, method = 'modified')\n",
    "    # X_lle = lle.fit_transform(vis_iot_df)\n",
    "    \n",
    "    # print('LLE completed!')\n",
    "    \n",
    "    # Apply LDA \n",
    "    lda = LinearDiscriminantAnalysis(n_components = n_components)\n",
    "    X_lda = lda.fit_transform(vis_iot_df, Y_class)\n",
    "    \n",
    "    print('LDA completed!')\n",
    "    \n",
    "    # Plot the results\n",
    "    fig = plt.figure(figsize = (20, 12), dpi = 400)\n",
    "    \n",
    "    # Assign unique colors to each class\n",
    "    \n",
    "    classes = np.unique(Y_class)\n",
    "    col_classes = classes[classes != 'BenignTraffic.pcap_Flow']\n",
    "    colors = plt.get_cmap(traffic_mix[traffic_vis][1], len(classes))\n",
    "    class_to_color = {cls: colors(i + 1) for i, cls in enumerate(col_classes)}\n",
    "    class_to_color.update({'BenignTraffic.pcap_Flow' : plt.get_cmap('Dark2', 1)(1)})\n",
    "    \n",
    "    # --- PCA ---\n",
    "    ax1 = fig.add_subplot(131, projection = '3d')\n",
    "    \n",
    "    for cls in classes:\n",
    "        \n",
    "        if cls == 'BenignTraffic.pcap_Flow':\n",
    "            alpha = 0.2\n",
    "            size = 10\n",
    "        else:\n",
    "            alpha = 0.7\n",
    "            size = 30\n",
    "            \n",
    "        idx = (Y_class.reset_index(drop = True) == cls)\n",
    "        ax1.scatter(X_pca[idx, 0], X_pca[idx, 1], X_pca[idx, 2], alpha = alpha, s = size, label = str(cls), color = class_to_color[cls])\n",
    "    \n",
    "    ax1.set_title('PCA (3D)')\n",
    "    ax1.set_xlabel('Component 1')\n",
    "    ax1.set_ylabel('Component 2')\n",
    "    ax1.set_zlabel('Component 3')\n",
    "    \n",
    "    # --- t-SNE ---\n",
    "    ax2 = fig.add_subplot(132, projection = '3d')\n",
    "    \n",
    "    for cls in classes:\n",
    "        \n",
    "        if cls == 'BenignTraffic.pcap_Flow':\n",
    "            alpha = 0.2\n",
    "            size = 10\n",
    "        else:\n",
    "            alpha = 0.7\n",
    "            size = 30\n",
    "          \n",
    "        idx = (Y_class.reset_index(drop = True) == cls)\n",
    "        ax2.scatter(X_tsne[idx, 0], X_tsne[idx, 1], X_tsne[idx, 2], alpha = alpha, s = size, label = str(cls), color = class_to_color[cls])\n",
    "    \n",
    "    ax2.set_title('t-SNE (3D)')\n",
    "    ax2.set_xlabel('Component 1')\n",
    "    ax2.set_ylabel('Component 2')\n",
    "    ax2.set_zlabel('Component 3')\n",
    "    \n",
    "    # # --- UMAP ---\n",
    "    # ax3 = fig.add_subplot(233, projection = '3d')\n",
    "    \n",
    "    # for cls in classes:\n",
    "        \n",
    "    #     if cls == 'BenignTraffic.pcap_Flow':\n",
    "    #         alpha = 0.3\n",
    "    #         size = 5\n",
    "    #     else:\n",
    "    #         alpha = 0.7\n",
    "    #         size = 30\n",
    "          \n",
    "    #     idx = (Y_class.reset_index(drop = True) == cls)\n",
    "    #     ax3.scatter(X_umap[idx, 0], X_umap[idx, 1], X_umap[idx, 2], alpha = alpha, s = size, label = str(cls), color = class_to_color[cls])\n",
    "    \n",
    "    # ax3.set_title('UMAP (3D)')\n",
    "    # ax3.set_xlabel('Component 1')\n",
    "    # ax3.set_ylabel('Component 2')\n",
    "    # ax3.set_zlabel('Component 3')\n",
    "    \n",
    "    # # --- ISOMAP ---\n",
    "    # ax4 = fig.add_subplot(234, projection = '3d')\n",
    "    \n",
    "    # for cls in classes:\n",
    "        \n",
    "    #     if cls == 'BenignTraffic.pcap_Flow':\n",
    "    #         alpha = 0.3\n",
    "    #         size = 5\n",
    "    #     else:\n",
    "    #         alpha = 0.7\n",
    "    #         size = 30\n",
    "          \n",
    "    #     idx = (Y_class.reset_index(drop = True) == cls)\n",
    "    #     ax4.scatter(X_isomap[idx, 0], X_isomap[idx, 1], X_isomap[idx, 2], alpha = alpha, s = size, label = str(cls), color = class_to_color[cls])\n",
    "    \n",
    "    # ax4.set_title('ISOMAP (3D)')\n",
    "    # ax4.set_xlabel('Component 1')\n",
    "    # ax4.set_ylabel('Component 2')\n",
    "    # ax4.set_zlabel('Component 3')\n",
    "    \n",
    "    # # --- LLE ---\n",
    "    # ax5 = fig.add_subplot(235, projection = '3d')\n",
    "    \n",
    "    # for cls in classes:\n",
    "        \n",
    "    #     if cls == 'BenignTraffic.pcap_Flow':\n",
    "    #         alpha = 0.3\n",
    "    #         size = 5\n",
    "    #     else:\n",
    "    #         alpha = 0.7\n",
    "    #         size = 30\n",
    "          \n",
    "    #     idx = (Y_class.reset_index(drop = True) == cls)\n",
    "    #     ax5.scatter(X_lle[idx, 0], X_lle[idx, 1], X_lle[idx, 2], alpha = alpha, s = size, label = str(cls), color = class_to_color[cls])\n",
    "    \n",
    "    # ax5.set_title('LLE (3D)')\n",
    "    # ax5.set_xlabel('Component 1')\n",
    "    # ax5.set_ylabel('Component 2')\n",
    "    # ax5.set_zlabel('Component 3')\n",
    "    \n",
    "    # --- LDA (3D) ---\n",
    "    ax6 = fig.add_subplot(133, projection = '3d')\n",
    "    \n",
    "    for cls in classes:\n",
    "        \n",
    "        if cls == 'BenignTraffic.pcap_Flow':\n",
    "            alpha = 0.2\n",
    "            size = 10\n",
    "        else:\n",
    "            alpha = 0.7\n",
    "            size = 30\n",
    "          \n",
    "        idx = (Y_class.reset_index(drop = True) == cls)\n",
    "        ax6.scatter(X_lda[idx, 0], X_lda[idx, 1], X_lda[idx, 2], alpha = alpha, s = size, label = str(cls), color = class_to_color[cls])\n",
    "    \n",
    "    ax6.set_title('LDA (3D)')\n",
    "    ax6.set_xlabel('Component 1')\n",
    "    ax6.set_ylabel('Component 2')\n",
    "    ax6.set_zlabel('Component 3')\n",
    "    \n",
    "    # Shared legend\n",
    "    handles, labels = ax1.get_legend_handles_labels()\n",
    "    fig.legend(handles, labels, loc = 'lower center', ncol = 2, fontsize = 'large')\n",
    "    \n",
    "    fig.tight_layout(rect = [0, 0.05, 1, 1])\n",
    "    fig.savefig('dimensionality_reduction_{}.png'.format(traffic_vis), dpi = 400)\n",
    "    plt.show()\n"
   ]
  },
  {
   "cell_type": "code",
   "execution_count": 3,
   "id": "ffc5c864-36fd-46d5-94bf-8ea2fe3cea41",
   "metadata": {
    "scrolled": true
   },
   "outputs": [],
   "source": [
    "top_n = 10\n",
    "\n",
    "# Plot data points\n",
    "fig = plt.figure(figsize = (10, 8), dpi = 400)\n",
    "\n",
    "valid_cols = iot_df.select_dtypes(include = [np.number]).columns \\\n",
    "                .difference(['Attack_type_l'] + [col for col in iot_df.columns if col.startswith('service_')])\n",
    "\n",
    "normal_iot_df = iot_df.loc[iot_df['Traffic_type'] == 'Benign', valid_cols]\n",
    "Y_class = iot_df.loc[normal_iot_df.index, 'Attack_type']\n",
    "\n",
    "# Apply PCA (3 principal components)\n",
    "pca = PCA(n_components = n_components)\n",
    "pca.fit(normal_iot_df)\n",
    "X_pca = pca.fit_transform(normal_iot_df)\n",
    "\n",
    "print('PCA completed!')\n",
    "\n",
    "loadings = pca.components_.T\n",
    "classes = np.unique(Y_class)\n",
    "colors = plt.get_cmap('Dark2', len(classes))\n",
    "class_to_color = {cls: colors(i) for i, cls in enumerate(classes)}\n",
    "\n",
    "for cls in classes:\n",
    "\n",
    "    if cls == 'BenignTraffic.pcap_Flow':\n",
    "        alpha = 0.3\n",
    "        size = 5\n",
    "    else:\n",
    "        alpha = 0.7\n",
    "        size = 30\n",
    "    \n",
    "    idx = (Y_class.reset_index(drop = True) == cls)\n",
    "\n",
    "    plt.scatter(X_pca[idx, 0], X_pca[idx, 1], alpha = alpha, s = size, label = cls, color = class_to_color[cls])\n",
    "    sns.kdeplot(x = X_pca[idx, 0], y = X_pca[idx, 1], alpha = 0.7, label = cls, color = class_to_color[cls])\n",
    "\n",
    "# Plot feature vectors (loadings)\n",
    "\n",
    "feature_names = valid_cols\n",
    "components = pca.components_\n",
    "feature_importance = np.linalg.norm(components, axis = 0)\n",
    "top_features_idx = np.argsort(feature_importance)[::-1]\n",
    "top_features = feature_names[top_features_idx]\n",
    "    \n",
    "for feature in normal_iot_df[top_features[:top_n]].columns:\n",
    "    i = feature_names.get_loc(feature)\n",
    "    plt.arrow(0, 0, loadings[i, 0] * 25, loadings[i, 1] * 25, color = 'red', alpha = 0.7, width = 0.02)\n",
    "    plt.text(loadings[i, 0] * 25.5, loadings[i, 1] * 25.5 + np.random.normal(loc = 0, scale = 0.2), feature, color = 'black', fontsize = 7)\n",
    "\n",
    "plt.xlabel(f'PC1 ({pca.explained_variance_ratio_[0]*100:.2f}%)')\n",
    "plt.ylabel(f'PC2 ({pca.explained_variance_ratio_[1]*100:.2f}%)')\n",
    "plt.title('PCA Biplot', loc = 'left')\n",
    "plt.axhline(0, color = 'grey', lw = 1)\n",
    "plt.axvline(0, color = 'grey', lw = 1)\n",
    "plt.grid()\n",
    "plt.legend()\n",
    "\n",
    "fig.savefig('pca_bi_plot.png', dpi = 400)\n",
    "\n",
    "plt.show()"
   ]
  },
  {
   "cell_type": "code",
   "execution_count": 4,
   "id": "42cfac85-8866-4f0f-9482-cebdcfa84157",
   "metadata": {},
   "outputs": [],
   "source": [
    "top_n = 10\n",
    "\n",
    "# Prepare loadings and colors\n",
    "loadings = pca.components_.T\n",
    "classes = np.unique(Y_class)\n",
    "colors = plt.get_cmap('Dark2', len(classes))\n",
    "class_to_color = {cls: colors(i) for i, cls in enumerate(classes)}\n",
    "\n",
    "# Start 3D plot\n",
    "fig = plt.figure(figsize = (12, 10), dpi = 400)\n",
    "ax = fig.add_subplot(111, projection='3d')\n",
    "\n",
    "# Plot scatter points\n",
    "for cls in classes:\n",
    "    if cls == 'BenignTraffic.pcap_Flow':\n",
    "        alpha = 0.3\n",
    "        size = 5\n",
    "    else:\n",
    "        alpha = 0.7\n",
    "        size = 30\n",
    "    idx = (Y_class.reset_index(drop=True) == cls)\n",
    "    ax.scatter(X_pca[idx, 0], X_pca[idx, 1], X_pca[idx, 2],\n",
    "               label=cls, color=class_to_color[cls], alpha = alpha, s = size)\n",
    "\n",
    "# Plot feature vectors (arrows)\n",
    "feature_names = valid_cols\n",
    "components = pca.components_\n",
    "feature_importance = np.linalg.norm(components, axis = 0)\n",
    "top_features_idx = np.argsort(feature_importance)[::-1]\n",
    "top_features = feature_names[top_features_idx]\n",
    "\n",
    "for feature in normal_iot_df[top_features[:top_n]].columns:\n",
    "    i = feature_names.get_loc(feature)\n",
    "    ax.quiver(0, 0, 0, \n",
    "              loadings[i, 0] * 100, loadings[i, 1] * 100, loadings[i, 2] * 100, \n",
    "              color = 'red', alpha = 0.8, arrow_length_ratio = 0.02)\n",
    "    ax.text(loadings[i, 0] * 103, loadings[i, 1] * 203, loadings[i, 2] * 103,\n",
    "            feature, color = 'black', fontsize=8)\n",
    "\n",
    "# Labels and title\n",
    "ax.set_xlabel(f'PC1 ({pca.explained_variance_ratio_[0]*100:.2f}%)')\n",
    "ax.set_ylabel(f'PC2 ({pca.explained_variance_ratio_[1]*100:.2f}%)')\n",
    "ax.set_zlabel(f'PC3 ({pca.explained_variance_ratio_[2]*100:.2f}%)')\n",
    "ax.set_title('3D PCA Biplot', loc='left')\n",
    "ax.legend()\n",
    "\n",
    "ax.view_init(elev = 30, azim = 300)\n",
    "\n",
    "fig.savefig('pca_biplot_3d.png', dpi = 400)\n",
    "plt.show()\n"
   ]
  },
  {
   "cell_type": "code",
   "execution_count": 1,
   "id": "7b1f39f0-57dd-4636-a301-f16ca1679a91",
   "metadata": {},
   "outputs": [],
   "source": [
    "# Parallel coordinate plot\n",
    "\n",
    "def plot_parallel_coordinates_top_features(x, class_column_name, n_features, min_bins, max_bins,\n",
    "                                               factor = 10, max_points = 3000, max_points_ref = 15000,\n",
    "                                                   ref_class = 'BenignTraffic.pcap_Flow', traffic_list = ['BenignTraffic.pcap_Flow'],\n",
    "                                                       cmap = 'Dark2', name = 'Normal'):\n",
    "\n",
    "    def compute_dynamic_bins(feature_matrix, min_bins, max_bins, factor):\n",
    "\n",
    "        n_unique = np.array([len(np.unique(feature_matrix[:, i])) for i in range(feature_matrix.shape[1])])\n",
    "    \n",
    "        bins = np.clip(n_unique // factor, min_bins, max_bins)\n",
    "        bins = np.where(n_unique < min_bins, n_unique, bins)\n",
    "        bins[bins < 2] = 2\n",
    "        \n",
    "        return bins\n",
    "\n",
    "    valid_cols = x.select_dtypes(include = [np.number]).columns \\\n",
    "                    .difference(['Attack_type_l'] + [col for col in x.columns if col.startswith('service_')])\n",
    "\n",
    "    X_filtered = x.loc[x[class_column_name].isin(traffic_list), :]\n",
    "    X_numeric = x.loc[x[class_column_name].isin(traffic_list), valid_cols]\n",
    "    y = x.loc[X_numeric.index, class_column_name]\n",
    "\n",
    "    # Discretize numeric features for mutual information calculation\n",
    "\n",
    "    n_bins = compute_dynamic_bins(X_numeric.values, min_bins = min_bins, max_bins = max_bins, factor = factor)\n",
    "\n",
    "    with warnings.catch_warnings():\n",
    "        \n",
    "        warnings.filterwarnings('ignore', category = UserWarning, module = 'sklearn')\n",
    "        \n",
    "        discretizer = KBinsDiscretizer(n_bins = n_bins, encode = 'ordinal', strategy = 'quantile')\n",
    "        X_discrete = discretizer.fit_transform(X_numeric)\n",
    "\n",
    "    # Compute mutual information\n",
    "    mi_scores = mutual_info_classif(X_discrete, y, discrete_features = True)\n",
    "\n",
    "    # Select top n_features\n",
    "    top_indices = np.argsort(mi_scores)[-n_features:]\n",
    "    top_features = X_numeric.columns[top_indices]\n",
    "\n",
    "    print('Top selected features based on MI:', list(top_features))\n",
    "\n",
    "    # Sample data for plotting\n",
    "    \n",
    "    plot_df = \\\n",
    "        X_filtered.groupby(class_column_name, group_keys = False, observed = True) \\\n",
    "            .apply(lambda x: x.assign(Attack_type = x.name).sample(max_points if x.name not in \\\n",
    "                [ref_class] else max_points_ref, replace = True), include_groups = False)\n",
    "\n",
    "    plot_df = plot_df[top_features]\n",
    "    plot_df_y = X_filtered.loc[plot_df.index, class_column_name].astype('str')\n",
    "\n",
    "    # Plot using Plotly\n",
    "\n",
    "    y_numeric = plot_df_y.astype('category')\n",
    "    category_codes = y_numeric.cat.codes\n",
    "    category_labels = y_numeric.cat.categories.tolist()\n",
    "\n",
    "    # Create a mapping from class to color\n",
    "\n",
    "    unique_classes = y_numeric.cat.categories.tolist()\n",
    "    palette = plt.get_cmap(cmap, len(unique_classes))\n",
    "    palette = [palette(i) for i in range(len(unique_classes))]\n",
    "    palette = [f'rgba({int(r*255)}, {int(g*255)}, {int(b*255)}, {a})' for r, g, b, a in palette]\n",
    "    color_map = {}\n",
    "\n",
    "    # Assign colors, with ref_class = grey\n",
    "    for i, cls in enumerate(unique_classes):\n",
    "        if cls == ref_class:\n",
    "            color_map[cls] = 'lightgrey'\n",
    "        else:\n",
    "            color_map[cls] = palette[i]\n",
    "\n",
    "    sort_order = plot_df_y.apply(lambda x: 1 if x == ref_class else 0)\n",
    "    sorted_df = plot_df.assign(_class = plot_df_y, _color = category_codes, _sort = sort_order)\n",
    "    sorted_df = sorted_df.sort_values(by = '_sort')\n",
    "    sorted_df = sorted_df.drop(columns = '_sort')\n",
    "    \n",
    "    fig = px.parallel_coordinates(\n",
    "        sorted_df,\n",
    "        color = '_color',\n",
    "        labels = {col : col for col in plot_df.columns},\n",
    "        color_continuous_scale = [color_map[cls] for cls in unique_classes],\n",
    "        range_color =[category_codes.min(), category_codes.max()],\n",
    "        dimensions = top_features.tolist())\n",
    "\n",
    "    fig.update_layout(\n",
    "        title = '',\n",
    "        plot_bgcolor = 'white',\n",
    "        margin = dict(l = 80, r = 150, t = 100, b = 80),\n",
    "        height = 700,\n",
    "        width = 1600,\n",
    "        coloraxis_colorbar = dict(\n",
    "            title = 'Traffic',\n",
    "            tickvals = list(range(len(category_labels))),\n",
    "            ticktext = category_labels))\n",
    "    \n",
    "    pio.write_html(fig, 'parallel_coordinates_plot_{}.html'.format(name))\n",
    "\n",
    "    fig.show()\n",
    "\n",
    "traffic_mix = {\n",
    "    'Benign' : (['BenignTraffic.pcap_Flow', 'Thing_Speak', 'Wipro_bulb', 'MQTT_Publish'], 'Dark2'),\n",
    "    'Scan 1' : (['BenignTraffic.pcap_Flow', 'NMAP_FIN_SCAN', 'NMAP_UDP_SCAN', 'NMAP_XMAS_TREE_SCAN',\n",
    "                     'NMAP_OS_DETECTION', 'NMAP_TCP_scan'], 'Purples'),\n",
    "    'DDoS 1' : (['BenignTraffic.pcap_Flow', 'DOS_SYN_Hping', 'ARP_poisioning', 'DDOS_Slowloris', 'Metasploit_Brute_Force_SSH'], 'Blues'),\n",
    "    'DDoS 2' : (['BenignTraffic.pcap_Flow', 'DDoS-ACK_Fragmentation.pcap_Flow', 'DDoS-ICMP_Flood.pcap_Flow',\n",
    "                    'DDoS-ICMP_Fragmentation.pcap_Flow', 'DDoS-HTTP_Flood-.pcap_Flow'], 'Reds'),\n",
    "    'DoS 2' : (['BenignTraffic.pcap_Flow', 'DoS-HTTP_Flood.pcap_Flow', 'DoS-SYN_Flood.pcap_Flow', 'DoS-UDP_Flood.pcap_Flow',\n",
    "                   'Mirai-greeth_flood.pcap_Flow', 'DictionaryBruteForce.pcap_Flow'], 'spring'),\n",
    "    'Other 2' : (['BenignTraffic.pcap_Flow', 'MITM-ArpSpoofing.pcap_Flow', 'VulnerabilityScan.pcap_Flow', 'DNS_Spoofing.pcap_Flow ',\n",
    "                     'SqlInjection.pcap_Flow', 'XSS.pcap_Flow', 'Uploading_Attack.pcap_Flow'], 'cool')}\n",
    "\n",
    "for traffic_vis in traffic_mix.keys():\n",
    "\n",
    "    plot_parallel_coordinates_top_features(iot_df, class_column_name = 'Attack_type', n_features = 10,\n",
    "                                               min_bins = 2, max_bins = 10, factor = 5, max_points = 3000, max_points_ref = 15000,\n",
    "                                                   ref_class = 'BenignTraffic.pcap_Flow', traffic_list = traffic_mix[traffic_vis][0],\n",
    "                                                       cmap = traffic_mix[traffic_vis][1], name = traffic_vis)\n",
    "\n",
    "    print(traffic_vis, 'completed!')\n"
   ]
  },
  {
   "cell_type": "code",
   "execution_count": 2,
   "id": "6592df04-4af0-476f-bc20-8a5ef37483c7",
   "metadata": {
    "scrolled": true
   },
   "outputs": [],
   "source": [
    "# Sample Data\n",
    "\n",
    "max_points = 500\n",
    "max_points_ref = int((len(iot_df['Attack_type'].unique().tolist()) * max_points) / 2)\n",
    "\n",
    "ref_class = 'BenignTraffic.pcap_Flow'\n",
    "multiplier = 10\n",
    "\n",
    "# Select valid columns (numeric columns excluding some specific ones)\n",
    "valid_cols = iot_df.select_dtypes(include=[np.number]).columns \\\n",
    "    .difference(['Attack_type_l'] + [col for col in iot_df.columns if col.startswith('service_')])\n",
    "\n",
    "# Create plot_df by sampling data\n",
    "plot_df = iot_df.groupby('Attack_type', group_keys=False, observed=True) \\\n",
    "    .apply(lambda x: x.assign(Attack_type=x.name).sample(\n",
    "        max_points if x.name not in [ref_class] else max_points_ref, \n",
    "        replace=True if x.shape[0] < max_points else False), \n",
    "           include_groups=False)\n",
    "\n",
    "plot_df = plot_df.loc[:, valid_cols]\n",
    "Y_class = iot_df.loc[plot_df.index, 'Attack_type']\n",
    "\n",
    "# Encode class labels\n",
    "le = LabelEncoder()\n",
    "Y_class_encoded = le.fit_transform(Y_class)\n",
    "label_map = dict(zip(le.transform(le.classes_), le.classes_))\n",
    "\n",
    "# Initialize KeplerMapper\n",
    "mapper = km.KeplerMapper(verbose = 1)\n",
    "\n",
    "# Project data using KernelPCA\n",
    "projected = mapper.fit_transform(plot_df, projection = KernelPCA(n_components = 6, kernel = 'rbf', gamma = 0.1))\n",
    "\n",
    "# Create a graph using DBSCAN clustering\n",
    "graph = mapper.map(projected,\n",
    "                   plot_df,\n",
    "                   clusterer = DBSCAN(eps = 2.5, min_samples = 30),\n",
    "                   cover = km.Cover(n_cubes = 3, perc_overlap = 0.3))\n",
    "\n",
    "# Construct colourscale\n",
    "\n",
    "traffic_mix = {\n",
    "    'Benign' : (['BenignTraffic.pcap_Flow', 'Thing_Speak', 'Wipro_bulb', 'MQTT_Publish'], 'Greens'),\n",
    "    'Scan 1' : (['BenignTraffic.pcap_Flow', 'NMAP_FIN_SCAN', 'NMAP_UDP_SCAN', 'NMAP_XMAS_TREE_SCAN',\n",
    "                     'NMAP_OS_DETECTION', 'NMAP_TCP_scan'], 'Purples'),\n",
    "    'DDoS 1' : (['BenignTraffic.pcap_Flow', 'DOS_SYN_Hping', 'ARP_poisioning', 'DDOS_Slowloris', 'Metasploit_Brute_Force_SSH'], 'Blues'),\n",
    "    'DDoS 2' : (['BenignTraffic.pcap_Flow', 'DDoS-ACK_Fragmentation.pcap_Flow', 'DDoS-ICMP_Flood.pcap_Flow',\n",
    "                    'DDoS-ICMP_Fragmentation.pcap_Flow', 'DDoS-HTTP_Flood-.pcap_Flow'], 'Reds'),\n",
    "    'DoS 2' : (['BenignTraffic.pcap_Flow', 'DoS-HTTP_Flood.pcap_Flow', 'DoS-SYN_Flood.pcap_Flow', 'DoS-UDP_Flood.pcap_Flow',\n",
    "                   'Mirai-greeth_flood.pcap_Flow', 'DictionaryBruteForce.pcap_Flow'], 'Greys'),\n",
    "    'Other 2' : (['BenignTraffic.pcap_Flow', 'MITM-ArpSpoofing.pcap_Flow', 'VulnerabilityScan.pcap_Flow', 'DNS_Spoofing.pcap_Flow ',\n",
    "                     'SqlInjection.pcap_Flow', 'XSS.pcap_Flow', 'Uploading_Attack.pcap_Flow'], 'Oranges')}\n",
    "\n",
    "class_color_map = {}\n",
    "for group, (class_list, cmap_name) in traffic_mix.items():\n",
    "\n",
    "    n_classes = len(class_list) + 1\n",
    "    \n",
    "    cmap = plt.get_cmap(cmap_name, n_classes)\n",
    "\n",
    "    for i, cls in enumerate(class_list):\n",
    "        \n",
    "        if (group != 'Benign' and cls != 'BenignTraffic.pcap_Flow') or group == 'Benign':\n",
    "\n",
    "            rgba = cmap(i + 1)\n",
    "            rgb = tuple(int(255 * c) for c in rgba[:3])\n",
    "            class_color_map[cls] = f'rgb{rgb}'\n",
    "\n",
    "sorted_classes = sorted(class_color_map.keys())\n",
    "n = len(sorted_classes)\n",
    "\n",
    "colorscale = []\n",
    "for i, cls in enumerate(sorted_classes):\n",
    "    percent = i / (n - 1) if n > 1 else 0.0\n",
    "    colorscale.append([percent, class_color_map[cls]])\n",
    "\n",
    "# Visualization parameters\n",
    "\n",
    "title = ''\n",
    "color_values = Y_class_encoded  # Color nodes by class/target\n",
    "graph_layout = 'kk'  # Kamada-Kawai layout for the graph\n",
    "node_color_function = 'median'  # Color nodes based on the mean class of their members\n",
    "\n",
    "# Plotting the graph using KeplerMapper's plotlyviz function\n",
    "fig = km.plotlyviz.plotlyviz(\n",
    "    scomplex = graph,\n",
    "    title = title,\n",
    "    colorscale = colorscale,\n",
    "    graph_layout = graph_layout,\n",
    "    color_values = color_values,\n",
    "    node_color_function = node_color_function,\n",
    "    dashboard = False,\n",
    "    graph_data = False,\n",
    "    factor_size = 2,\n",
    "    edge_linewidth = 0.5,\n",
    "    node_linecolor = 'rgb(200,200,200)',\n",
    "    width = 1600,\n",
    "    height = 1000,\n",
    "    bgcolor = 'rgba(240, 240, 240, 0.95)',\n",
    "    filename = None)\n",
    "\n",
    "pio.write_html(fig, 'topological_graph.html'.format(name))\n",
    "\n",
    "fig.show()\n"
   ]
  },
  {
   "cell_type": "code",
   "execution_count": 80,
   "id": "196faef3-58d4-4d7e-8bd0-f923279ebaef",
   "metadata": {},
   "outputs": [
    {
     "data": {
      "application/vnd.plotly.v1+json": {
       "config": {
        "plotlyServerURL": "https://plot.ly"
       },
       "data": [
        {
         "marker": {
          "color": "rgb(199, 233, 192)",
          "size": 12
         },
         "mode": "markers",
         "name": "BenignTraffic.pcap_Flow",
         "showlegend": true,
         "type": "scatter",
         "x": [
          null
         ],
         "y": [
          null
         ]
        },
        {
         "marker": {
          "color": "rgb(116, 196, 118)",
          "size": 12
         },
         "mode": "markers",
         "name": "Thing_Speak",
         "showlegend": true,
         "type": "scatter",
         "x": [
          null
         ],
         "y": [
          null
         ]
        },
        {
         "marker": {
          "color": "rgb(35, 139, 69)",
          "size": 12
         },
         "mode": "markers",
         "name": "Wipro_bulb",
         "showlegend": true,
         "type": "scatter",
         "x": [
          null
         ],
         "y": [
          null
         ]
        },
        {
         "marker": {
          "color": "rgb(0, 68, 27)",
          "size": 12
         },
         "mode": "markers",
         "name": "MQTT_Publish",
         "showlegend": true,
         "type": "scatter",
         "x": [
          null
         ],
         "y": [
          null
         ]
        },
        {
         "marker": {
          "color": "rgb(198, 198, 225)",
          "size": 12
         },
         "mode": "markers",
         "name": "NMAP_FIN_SCAN",
         "showlegend": true,
         "type": "scatter",
         "x": [
          null
         ],
         "y": [
          null
         ]
        },
        {
         "marker": {
          "color": "rgb(158, 154, 200)",
          "size": 12
         },
         "mode": "markers",
         "name": "NMAP_UDP_SCAN",
         "showlegend": true,
         "type": "scatter",
         "x": [
          null
         ],
         "y": [
          null
         ]
        },
        {
         "marker": {
          "color": "rgb(120, 110, 178)",
          "size": 12
         },
         "mode": "markers",
         "name": "NMAP_XMAS_TREE_SCAN",
         "showlegend": true,
         "type": "scatter",
         "x": [
          null
         ],
         "y": [
          null
         ]
        },
        {
         "marker": {
          "color": "rgb(91, 53, 149)",
          "size": 12
         },
         "mode": "markers",
         "name": "NMAP_OS_DETECTION",
         "showlegend": true,
         "type": "scatter",
         "x": [
          null
         ],
         "y": [
          null
         ]
        },
        {
         "marker": {
          "color": "rgb(63, 0, 125)",
          "size": 12
         },
         "mode": "markers",
         "name": "NMAP_TCP_scan",
         "showlegend": true,
         "type": "scatter",
         "x": [
          null
         ],
         "y": [
          null
         ]
        },
        {
         "marker": {
          "color": "rgb(147, 196, 222)",
          "size": 12
         },
         "mode": "markers",
         "name": "DOS_SYN_Hping",
         "showlegend": true,
         "type": "scatter",
         "x": [
          null
         ],
         "y": [
          null
         ]
        },
        {
         "marker": {
          "color": "rgb(74, 151, 201)",
          "size": 12
         },
         "mode": "markers",
         "name": "ARP_poisioning",
         "showlegend": true,
         "type": "scatter",
         "x": [
          null
         ],
         "y": [
          null
         ]
        },
        {
         "marker": {
          "color": "rgb(23, 100, 171)",
          "size": 12
         },
         "mode": "markers",
         "name": "DDOS_Slowloris",
         "showlegend": true,
         "type": "scatter",
         "x": [
          null
         ],
         "y": [
          null
         ]
        },
        {
         "marker": {
          "color": "rgb(8, 48, 107)",
          "size": 12
         },
         "mode": "markers",
         "name": "Metasploit_Brute_Force_SSH",
         "showlegend": true,
         "type": "scatter",
         "x": [
          null
         ],
         "y": [
          null
         ]
        },
        {
         "marker": {
          "color": "rgb(251, 138, 106)",
          "size": 12
         },
         "mode": "markers",
         "name": "DDoS-ACK_Fragmentation.pcap_Flow",
         "showlegend": true,
         "type": "scatter",
         "x": [
          null
         ],
         "y": [
          null
         ]
        },
        {
         "marker": {
          "color": "rgb(241, 68, 49)",
          "size": 12
         },
         "mode": "markers",
         "name": "DDoS-ICMP_Flood.pcap_Flow",
         "showlegend": true,
         "type": "scatter",
         "x": [
          null
         ],
         "y": [
          null
         ]
        },
        {
         "marker": {
          "color": "rgb(187, 20, 25)",
          "size": 12
         },
         "mode": "markers",
         "name": "DDoS-ICMP_Fragmentation.pcap_Flow",
         "showlegend": true,
         "type": "scatter",
         "x": [
          null
         ],
         "y": [
          null
         ]
        },
        {
         "marker": {
          "color": "rgb(103, 0, 12)",
          "size": 12
         },
         "mode": "markers",
         "name": "DDoS-HTTP_Flood-.pcap_Flow",
         "showlegend": true,
         "type": "scatter",
         "x": [
          null
         ],
         "y": [
          null
         ]
        },
        {
         "marker": {
          "color": "rgb(198, 198, 198)",
          "size": 12
         },
         "mode": "markers",
         "name": "DoS-HTTP_Flood.pcap_Flow",
         "showlegend": true,
         "type": "scatter",
         "x": [
          null
         ],
         "y": [
          null
         ]
        },
        {
         "marker": {
          "color": "rgb(150, 150, 150)",
          "size": 12
         },
         "mode": "markers",
         "name": "DoS-SYN_Flood.pcap_Flow",
         "showlegend": true,
         "type": "scatter",
         "x": [
          null
         ],
         "y": [
          null
         ]
        },
        {
         "marker": {
          "color": "rgb(104, 104, 104)",
          "size": 12
         },
         "mode": "markers",
         "name": "DoS-UDP_Flood.pcap_Flow",
         "showlegend": true,
         "type": "scatter",
         "x": [
          null
         ],
         "y": [
          null
         ]
        },
        {
         "marker": {
          "color": "rgb(52, 52, 52)",
          "size": 12
         },
         "mode": "markers",
         "name": "Mirai-greeth_flood.pcap_Flow",
         "showlegend": true,
         "type": "scatter",
         "x": [
          null
         ],
         "y": [
          null
         ]
        },
        {
         "marker": {
          "color": "rgb(0, 0, 0)",
          "size": 12
         },
         "mode": "markers",
         "name": "DictionaryBruteForce.pcap_Flow",
         "showlegend": true,
         "type": "scatter",
         "x": [
          null
         ],
         "y": [
          null
         ]
        },
        {
         "marker": {
          "color": "rgb(253, 198, 146)",
          "size": 12
         },
         "mode": "markers",
         "name": "MITM-ArpSpoofing.pcap_Flow",
         "showlegend": true,
         "type": "scatter",
         "x": [
          null
         ],
         "y": [
          null
         ]
        },
        {
         "marker": {
          "color": "rgb(253, 159, 86)",
          "size": 12
         },
         "mode": "markers",
         "name": "VulnerabilityScan.pcap_Flow",
         "showlegend": true,
         "type": "scatter",
         "x": [
          null
         ],
         "y": [
          null
         ]
        },
        {
         "marker": {
          "color": "rgb(246, 120, 36)",
          "size": 12
         },
         "mode": "markers",
         "name": "DNS_Spoofing.pcap_Flow ",
         "showlegend": true,
         "type": "scatter",
         "x": [
          null
         ],
         "y": [
          null
         ]
        },
        {
         "marker": {
          "color": "rgb(223, 81, 6)",
          "size": 12
         },
         "mode": "markers",
         "name": "SqlInjection.pcap_Flow",
         "showlegend": true,
         "type": "scatter",
         "x": [
          null
         ],
         "y": [
          null
         ]
        },
        {
         "marker": {
          "color": "rgb(173, 56, 2)",
          "size": 12
         },
         "mode": "markers",
         "name": "XSS.pcap_Flow",
         "showlegend": true,
         "type": "scatter",
         "x": [
          null
         ],
         "y": [
          null
         ]
        },
        {
         "marker": {
          "color": "rgb(127, 39, 4)",
          "size": 12
         },
         "mode": "markers",
         "name": "Uploading_Attack.pcap_Flow",
         "showlegend": true,
         "type": "scatter",
         "x": [
          null
         ],
         "y": [
          null
         ]
        }
       ],
       "layout": {
        "height": 300,
        "legend": {
         "bordercolor": "Black",
         "borderwidth": 1,
         "font": {
          "size": 12
         },
         "orientation": "h",
         "x": 0.01,
         "y": 0.99
        },
        "margin": {
         "b": 20,
         "l": 20,
         "r": 20,
         "t": 40
        },
        "plot_bgcolor": "white",
        "showlegend": true,
        "template": {
         "data": {
          "bar": [
           {
            "error_x": {
             "color": "#2a3f5f"
            },
            "error_y": {
             "color": "#2a3f5f"
            },
            "marker": {
             "line": {
              "color": "#E5ECF6",
              "width": 0.5
             },
             "pattern": {
              "fillmode": "overlay",
              "size": 10,
              "solidity": 0.2
             }
            },
            "type": "bar"
           }
          ],
          "barpolar": [
           {
            "marker": {
             "line": {
              "color": "#E5ECF6",
              "width": 0.5
             },
             "pattern": {
              "fillmode": "overlay",
              "size": 10,
              "solidity": 0.2
             }
            },
            "type": "barpolar"
           }
          ],
          "carpet": [
           {
            "aaxis": {
             "endlinecolor": "#2a3f5f",
             "gridcolor": "white",
             "linecolor": "white",
             "minorgridcolor": "white",
             "startlinecolor": "#2a3f5f"
            },
            "baxis": {
             "endlinecolor": "#2a3f5f",
             "gridcolor": "white",
             "linecolor": "white",
             "minorgridcolor": "white",
             "startlinecolor": "#2a3f5f"
            },
            "type": "carpet"
           }
          ],
          "choropleth": [
           {
            "colorbar": {
             "outlinewidth": 0,
             "ticks": ""
            },
            "type": "choropleth"
           }
          ],
          "contour": [
           {
            "colorbar": {
             "outlinewidth": 0,
             "ticks": ""
            },
            "colorscale": [
             [
              0,
              "#0d0887"
             ],
             [
              0.1111111111111111,
              "#46039f"
             ],
             [
              0.2222222222222222,
              "#7201a8"
             ],
             [
              0.3333333333333333,
              "#9c179e"
             ],
             [
              0.4444444444444444,
              "#bd3786"
             ],
             [
              0.5555555555555556,
              "#d8576b"
             ],
             [
              0.6666666666666666,
              "#ed7953"
             ],
             [
              0.7777777777777778,
              "#fb9f3a"
             ],
             [
              0.8888888888888888,
              "#fdca26"
             ],
             [
              1,
              "#f0f921"
             ]
            ],
            "type": "contour"
           }
          ],
          "contourcarpet": [
           {
            "colorbar": {
             "outlinewidth": 0,
             "ticks": ""
            },
            "type": "contourcarpet"
           }
          ],
          "heatmap": [
           {
            "colorbar": {
             "outlinewidth": 0,
             "ticks": ""
            },
            "colorscale": [
             [
              0,
              "#0d0887"
             ],
             [
              0.1111111111111111,
              "#46039f"
             ],
             [
              0.2222222222222222,
              "#7201a8"
             ],
             [
              0.3333333333333333,
              "#9c179e"
             ],
             [
              0.4444444444444444,
              "#bd3786"
             ],
             [
              0.5555555555555556,
              "#d8576b"
             ],
             [
              0.6666666666666666,
              "#ed7953"
             ],
             [
              0.7777777777777778,
              "#fb9f3a"
             ],
             [
              0.8888888888888888,
              "#fdca26"
             ],
             [
              1,
              "#f0f921"
             ]
            ],
            "type": "heatmap"
           }
          ],
          "heatmapgl": [
           {
            "colorbar": {
             "outlinewidth": 0,
             "ticks": ""
            },
            "colorscale": [
             [
              0,
              "#0d0887"
             ],
             [
              0.1111111111111111,
              "#46039f"
             ],
             [
              0.2222222222222222,
              "#7201a8"
             ],
             [
              0.3333333333333333,
              "#9c179e"
             ],
             [
              0.4444444444444444,
              "#bd3786"
             ],
             [
              0.5555555555555556,
              "#d8576b"
             ],
             [
              0.6666666666666666,
              "#ed7953"
             ],
             [
              0.7777777777777778,
              "#fb9f3a"
             ],
             [
              0.8888888888888888,
              "#fdca26"
             ],
             [
              1,
              "#f0f921"
             ]
            ],
            "type": "heatmapgl"
           }
          ],
          "histogram": [
           {
            "marker": {
             "pattern": {
              "fillmode": "overlay",
              "size": 10,
              "solidity": 0.2
             }
            },
            "type": "histogram"
           }
          ],
          "histogram2d": [
           {
            "colorbar": {
             "outlinewidth": 0,
             "ticks": ""
            },
            "colorscale": [
             [
              0,
              "#0d0887"
             ],
             [
              0.1111111111111111,
              "#46039f"
             ],
             [
              0.2222222222222222,
              "#7201a8"
             ],
             [
              0.3333333333333333,
              "#9c179e"
             ],
             [
              0.4444444444444444,
              "#bd3786"
             ],
             [
              0.5555555555555556,
              "#d8576b"
             ],
             [
              0.6666666666666666,
              "#ed7953"
             ],
             [
              0.7777777777777778,
              "#fb9f3a"
             ],
             [
              0.8888888888888888,
              "#fdca26"
             ],
             [
              1,
              "#f0f921"
             ]
            ],
            "type": "histogram2d"
           }
          ],
          "histogram2dcontour": [
           {
            "colorbar": {
             "outlinewidth": 0,
             "ticks": ""
            },
            "colorscale": [
             [
              0,
              "#0d0887"
             ],
             [
              0.1111111111111111,
              "#46039f"
             ],
             [
              0.2222222222222222,
              "#7201a8"
             ],
             [
              0.3333333333333333,
              "#9c179e"
             ],
             [
              0.4444444444444444,
              "#bd3786"
             ],
             [
              0.5555555555555556,
              "#d8576b"
             ],
             [
              0.6666666666666666,
              "#ed7953"
             ],
             [
              0.7777777777777778,
              "#fb9f3a"
             ],
             [
              0.8888888888888888,
              "#fdca26"
             ],
             [
              1,
              "#f0f921"
             ]
            ],
            "type": "histogram2dcontour"
           }
          ],
          "mesh3d": [
           {
            "colorbar": {
             "outlinewidth": 0,
             "ticks": ""
            },
            "type": "mesh3d"
           }
          ],
          "parcoords": [
           {
            "line": {
             "colorbar": {
              "outlinewidth": 0,
              "ticks": ""
             }
            },
            "type": "parcoords"
           }
          ],
          "pie": [
           {
            "automargin": true,
            "type": "pie"
           }
          ],
          "scatter": [
           {
            "fillpattern": {
             "fillmode": "overlay",
             "size": 10,
             "solidity": 0.2
            },
            "type": "scatter"
           }
          ],
          "scatter3d": [
           {
            "line": {
             "colorbar": {
              "outlinewidth": 0,
              "ticks": ""
             }
            },
            "marker": {
             "colorbar": {
              "outlinewidth": 0,
              "ticks": ""
             }
            },
            "type": "scatter3d"
           }
          ],
          "scattercarpet": [
           {
            "marker": {
             "colorbar": {
              "outlinewidth": 0,
              "ticks": ""
             }
            },
            "type": "scattercarpet"
           }
          ],
          "scattergeo": [
           {
            "marker": {
             "colorbar": {
              "outlinewidth": 0,
              "ticks": ""
             }
            },
            "type": "scattergeo"
           }
          ],
          "scattergl": [
           {
            "marker": {
             "colorbar": {
              "outlinewidth": 0,
              "ticks": ""
             }
            },
            "type": "scattergl"
           }
          ],
          "scattermapbox": [
           {
            "marker": {
             "colorbar": {
              "outlinewidth": 0,
              "ticks": ""
             }
            },
            "type": "scattermapbox"
           }
          ],
          "scatterpolar": [
           {
            "marker": {
             "colorbar": {
              "outlinewidth": 0,
              "ticks": ""
             }
            },
            "type": "scatterpolar"
           }
          ],
          "scatterpolargl": [
           {
            "marker": {
             "colorbar": {
              "outlinewidth": 0,
              "ticks": ""
             }
            },
            "type": "scatterpolargl"
           }
          ],
          "scatterternary": [
           {
            "marker": {
             "colorbar": {
              "outlinewidth": 0,
              "ticks": ""
             }
            },
            "type": "scatterternary"
           }
          ],
          "surface": [
           {
            "colorbar": {
             "outlinewidth": 0,
             "ticks": ""
            },
            "colorscale": [
             [
              0,
              "#0d0887"
             ],
             [
              0.1111111111111111,
              "#46039f"
             ],
             [
              0.2222222222222222,
              "#7201a8"
             ],
             [
              0.3333333333333333,
              "#9c179e"
             ],
             [
              0.4444444444444444,
              "#bd3786"
             ],
             [
              0.5555555555555556,
              "#d8576b"
             ],
             [
              0.6666666666666666,
              "#ed7953"
             ],
             [
              0.7777777777777778,
              "#fb9f3a"
             ],
             [
              0.8888888888888888,
              "#fdca26"
             ],
             [
              1,
              "#f0f921"
             ]
            ],
            "type": "surface"
           }
          ],
          "table": [
           {
            "cells": {
             "fill": {
              "color": "#EBF0F8"
             },
             "line": {
              "color": "white"
             }
            },
            "header": {
             "fill": {
              "color": "#C8D4E3"
             },
             "line": {
              "color": "white"
             }
            },
            "type": "table"
           }
          ]
         },
         "layout": {
          "annotationdefaults": {
           "arrowcolor": "#2a3f5f",
           "arrowhead": 0,
           "arrowwidth": 1
          },
          "autotypenumbers": "strict",
          "coloraxis": {
           "colorbar": {
            "outlinewidth": 0,
            "ticks": ""
           }
          },
          "colorscale": {
           "diverging": [
            [
             0,
             "#8e0152"
            ],
            [
             0.1,
             "#c51b7d"
            ],
            [
             0.2,
             "#de77ae"
            ],
            [
             0.3,
             "#f1b6da"
            ],
            [
             0.4,
             "#fde0ef"
            ],
            [
             0.5,
             "#f7f7f7"
            ],
            [
             0.6,
             "#e6f5d0"
            ],
            [
             0.7,
             "#b8e186"
            ],
            [
             0.8,
             "#7fbc41"
            ],
            [
             0.9,
             "#4d9221"
            ],
            [
             1,
             "#276419"
            ]
           ],
           "sequential": [
            [
             0,
             "#0d0887"
            ],
            [
             0.1111111111111111,
             "#46039f"
            ],
            [
             0.2222222222222222,
             "#7201a8"
            ],
            [
             0.3333333333333333,
             "#9c179e"
            ],
            [
             0.4444444444444444,
             "#bd3786"
            ],
            [
             0.5555555555555556,
             "#d8576b"
            ],
            [
             0.6666666666666666,
             "#ed7953"
            ],
            [
             0.7777777777777778,
             "#fb9f3a"
            ],
            [
             0.8888888888888888,
             "#fdca26"
            ],
            [
             1,
             "#f0f921"
            ]
           ],
           "sequentialminus": [
            [
             0,
             "#0d0887"
            ],
            [
             0.1111111111111111,
             "#46039f"
            ],
            [
             0.2222222222222222,
             "#7201a8"
            ],
            [
             0.3333333333333333,
             "#9c179e"
            ],
            [
             0.4444444444444444,
             "#bd3786"
            ],
            [
             0.5555555555555556,
             "#d8576b"
            ],
            [
             0.6666666666666666,
             "#ed7953"
            ],
            [
             0.7777777777777778,
             "#fb9f3a"
            ],
            [
             0.8888888888888888,
             "#fdca26"
            ],
            [
             1,
             "#f0f921"
            ]
           ]
          },
          "colorway": [
           "#636efa",
           "#EF553B",
           "#00cc96",
           "#ab63fa",
           "#FFA15A",
           "#19d3f3",
           "#FF6692",
           "#B6E880",
           "#FF97FF",
           "#FECB52"
          ],
          "font": {
           "color": "#2a3f5f"
          },
          "geo": {
           "bgcolor": "white",
           "lakecolor": "white",
           "landcolor": "#E5ECF6",
           "showlakes": true,
           "showland": true,
           "subunitcolor": "white"
          },
          "hoverlabel": {
           "align": "left"
          },
          "hovermode": "closest",
          "mapbox": {
           "style": "light"
          },
          "paper_bgcolor": "white",
          "plot_bgcolor": "#E5ECF6",
          "polar": {
           "angularaxis": {
            "gridcolor": "white",
            "linecolor": "white",
            "ticks": ""
           },
           "bgcolor": "#E5ECF6",
           "radialaxis": {
            "gridcolor": "white",
            "linecolor": "white",
            "ticks": ""
           }
          },
          "scene": {
           "xaxis": {
            "backgroundcolor": "#E5ECF6",
            "gridcolor": "white",
            "gridwidth": 2,
            "linecolor": "white",
            "showbackground": true,
            "ticks": "",
            "zerolinecolor": "white"
           },
           "yaxis": {
            "backgroundcolor": "#E5ECF6",
            "gridcolor": "white",
            "gridwidth": 2,
            "linecolor": "white",
            "showbackground": true,
            "ticks": "",
            "zerolinecolor": "white"
           },
           "zaxis": {
            "backgroundcolor": "#E5ECF6",
            "gridcolor": "white",
            "gridwidth": 2,
            "linecolor": "white",
            "showbackground": true,
            "ticks": "",
            "zerolinecolor": "white"
           }
          },
          "shapedefaults": {
           "line": {
            "color": "#2a3f5f"
           }
          },
          "ternary": {
           "aaxis": {
            "gridcolor": "white",
            "linecolor": "white",
            "ticks": ""
           },
           "baxis": {
            "gridcolor": "white",
            "linecolor": "white",
            "ticks": ""
           },
           "bgcolor": "#E5ECF6",
           "caxis": {
            "gridcolor": "white",
            "linecolor": "white",
            "ticks": ""
           }
          },
          "title": {
           "x": 0.05
          },
          "xaxis": {
           "automargin": true,
           "gridcolor": "white",
           "linecolor": "white",
           "ticks": "",
           "title": {
            "standoff": 15
           },
           "zerolinecolor": "white",
           "zerolinewidth": 2
          },
          "yaxis": {
           "automargin": true,
           "gridcolor": "white",
           "linecolor": "white",
           "ticks": "",
           "title": {
            "standoff": 15
           },
           "zerolinecolor": "white",
           "zerolinewidth": 2
          }
         }
        },
        "title": {
         "text": "Traffic type"
        },
        "width": 1600,
        "xaxis": {
         "autorange": true,
         "range": [
          -1,
          6
         ],
         "visible": false
        },
        "yaxis": {
         "autorange": true,
         "range": [
          -1,
          4
         ],
         "visible": false
        }
       }
      },
      "image/png": "[encoded data removed]",
      "text/html": [
       "<div>                            <div id=\"05ce9682-0c61-43da-968d-0ab20a3c93a4\" class=\"plotly-graph-div\" style=\"height:300px; width:1600px;\"></div>            <script type=\"text/javascript\">                require([\"plotly\"], function(Plotly) {                    window.PLOTLYENV=window.PLOTLYENV || {};                                    if (document.getElementById(\"05ce9682-0c61-43da-968d-0ab20a3c93a4\")) {                    Plotly.newPlot(                        \"05ce9682-0c61-43da-968d-0ab20a3c93a4\",                        [{\"marker\":{\"color\":\"rgb(199, 233, 192)\",\"size\":12},\"mode\":\"markers\",\"name\":\"BenignTraffic.pcap_Flow\",\"showlegend\":true,\"x\":[null],\"y\":[null],\"type\":\"scatter\"},{\"marker\":{\"color\":\"rgb(116, 196, 118)\",\"size\":12},\"mode\":\"markers\",\"name\":\"Thing_Speak\",\"showlegend\":true,\"x\":[null],\"y\":[null],\"type\":\"scatter\"},{\"marker\":{\"color\":\"rgb(35, 139, 69)\",\"size\":12},\"mode\":\"markers\",\"name\":\"Wipro_bulb\",\"showlegend\":true,\"x\":[null],\"y\":[null],\"type\":\"scatter\"},{\"marker\":{\"color\":\"rgb(0, 68, 27)\",\"size\":12},\"mode\":\"markers\",\"name\":\"MQTT_Publish\",\"showlegend\":true,\"x\":[null],\"y\":[null],\"type\":\"scatter\"},{\"marker\":{\"color\":\"rgb(198, 198, 225)\",\"size\":12},\"mode\":\"markers\",\"name\":\"NMAP_FIN_SCAN\",\"showlegend\":true,\"x\":[null],\"y\":[null],\"type\":\"scatter\"},{\"marker\":{\"color\":\"rgb(158, 154, 200)\",\"size\":12},\"mode\":\"markers\",\"name\":\"NMAP_UDP_SCAN\",\"showlegend\":true,\"x\":[null],\"y\":[null],\"type\":\"scatter\"},{\"marker\":{\"color\":\"rgb(120, 110, 178)\",\"size\":12},\"mode\":\"markers\",\"name\":\"NMAP_XMAS_TREE_SCAN\",\"showlegend\":true,\"x\":[null],\"y\":[null],\"type\":\"scatter\"},{\"marker\":{\"color\":\"rgb(91, 53, 149)\",\"size\":12},\"mode\":\"markers\",\"name\":\"NMAP_OS_DETECTION\",\"showlegend\":true,\"x\":[null],\"y\":[null],\"type\":\"scatter\"},{\"marker\":{\"color\":\"rgb(63, 0, 125)\",\"size\":12},\"mode\":\"markers\",\"name\":\"NMAP_TCP_scan\",\"showlegend\":true,\"x\":[null],\"y\":[null],\"type\":\"scatter\"},{\"marker\":{\"color\":\"rgb(147, 196, 222)\",\"size\":12},\"mode\":\"markers\",\"name\":\"DOS_SYN_Hping\",\"showlegend\":true,\"x\":[null],\"y\":[null],\"type\":\"scatter\"},{\"marker\":{\"color\":\"rgb(74, 151, 201)\",\"size\":12},\"mode\":\"markers\",\"name\":\"ARP_poisioning\",\"showlegend\":true,\"x\":[null],\"y\":[null],\"type\":\"scatter\"},{\"marker\":{\"color\":\"rgb(23, 100, 171)\",\"size\":12},\"mode\":\"markers\",\"name\":\"DDOS_Slowloris\",\"showlegend\":true,\"x\":[null],\"y\":[null],\"type\":\"scatter\"},{\"marker\":{\"color\":\"rgb(8, 48, 107)\",\"size\":12},\"mode\":\"markers\",\"name\":\"Metasploit_Brute_Force_SSH\",\"showlegend\":true,\"x\":[null],\"y\":[null],\"type\":\"scatter\"},{\"marker\":{\"color\":\"rgb(251, 138, 106)\",\"size\":12},\"mode\":\"markers\",\"name\":\"DDoS-ACK_Fragmentation.pcap_Flow\",\"showlegend\":true,\"x\":[null],\"y\":[null],\"type\":\"scatter\"},{\"marker\":{\"color\":\"rgb(241, 68, 49)\",\"size\":12},\"mode\":\"markers\",\"name\":\"DDoS-ICMP_Flood.pcap_Flow\",\"showlegend\":true,\"x\":[null],\"y\":[null],\"type\":\"scatter\"},{\"marker\":{\"color\":\"rgb(187, 20, 25)\",\"size\":12},\"mode\":\"markers\",\"name\":\"DDoS-ICMP_Fragmentation.pcap_Flow\",\"showlegend\":true,\"x\":[null],\"y\":[null],\"type\":\"scatter\"},{\"marker\":{\"color\":\"rgb(103, 0, 12)\",\"size\":12},\"mode\":\"markers\",\"name\":\"DDoS-HTTP_Flood-.pcap_Flow\",\"showlegend\":true,\"x\":[null],\"y\":[null],\"type\":\"scatter\"},{\"marker\":{\"color\":\"rgb(198, 198, 198)\",\"size\":12},\"mode\":\"markers\",\"name\":\"DoS-HTTP_Flood.pcap_Flow\",\"showlegend\":true,\"x\":[null],\"y\":[null],\"type\":\"scatter\"},{\"marker\":{\"color\":\"rgb(150, 150, 150)\",\"size\":12},\"mode\":\"markers\",\"name\":\"DoS-SYN_Flood.pcap_Flow\",\"showlegend\":true,\"x\":[null],\"y\":[null],\"type\":\"scatter\"},{\"marker\":{\"color\":\"rgb(104, 104, 104)\",\"size\":12},\"mode\":\"markers\",\"name\":\"DoS-UDP_Flood.pcap_Flow\",\"showlegend\":true,\"x\":[null],\"y\":[null],\"type\":\"scatter\"},{\"marker\":{\"color\":\"rgb(52, 52, 52)\",\"size\":12},\"mode\":\"markers\",\"name\":\"Mirai-greeth_flood.pcap_Flow\",\"showlegend\":true,\"x\":[null],\"y\":[null],\"type\":\"scatter\"},{\"marker\":{\"color\":\"rgb(0, 0, 0)\",\"size\":12},\"mode\":\"markers\",\"name\":\"DictionaryBruteForce.pcap_Flow\",\"showlegend\":true,\"x\":[null],\"y\":[null],\"type\":\"scatter\"},{\"marker\":{\"color\":\"rgb(253, 198, 146)\",\"size\":12},\"mode\":\"markers\",\"name\":\"MITM-ArpSpoofing.pcap_Flow\",\"showlegend\":true,\"x\":[null],\"y\":[null],\"type\":\"scatter\"},{\"marker\":{\"color\":\"rgb(253, 159, 86)\",\"size\":12},\"mode\":\"markers\",\"name\":\"VulnerabilityScan.pcap_Flow\",\"showlegend\":true,\"x\":[null],\"y\":[null],\"type\":\"scatter\"},{\"marker\":{\"color\":\"rgb(246, 120, 36)\",\"size\":12},\"mode\":\"markers\",\"name\":\"DNS_Spoofing.pcap_Flow \",\"showlegend\":true,\"x\":[null],\"y\":[null],\"type\":\"scatter\"},{\"marker\":{\"color\":\"rgb(223, 81, 6)\",\"size\":12},\"mode\":\"markers\",\"name\":\"SqlInjection.pcap_Flow\",\"showlegend\":true,\"x\":[null],\"y\":[null],\"type\":\"scatter\"},{\"marker\":{\"color\":\"rgb(173, 56, 2)\",\"size\":12},\"mode\":\"markers\",\"name\":\"XSS.pcap_Flow\",\"showlegend\":true,\"x\":[null],\"y\":[null],\"type\":\"scatter\"},{\"marker\":{\"color\":\"rgb(127, 39, 4)\",\"size\":12},\"mode\":\"markers\",\"name\":\"Uploading_Attack.pcap_Flow\",\"showlegend\":true,\"x\":[null],\"y\":[null],\"type\":\"scatter\"}],                        {\"template\":{\"data\":{\"histogram2dcontour\":[{\"type\":\"histogram2dcontour\",\"colorbar\":{\"outlinewidth\":0,\"ticks\":\"\"},\"colorscale\":[[0.0,\"#0d0887\"],[0.1111111111111111,\"#46039f\"],[0.2222222222222222,\"#7201a8\"],[0.3333333333333333,\"#9c179e\"],[0.4444444444444444,\"#bd3786\"],[0.5555555555555556,\"#d8576b\"],[0.6666666666666666,\"#ed7953\"],[0.7777777777777778,\"#fb9f3a\"],[0.8888888888888888,\"#fdca26\"],[1.0,\"#f0f921\"]]}],\"choropleth\":[{\"type\":\"choropleth\",\"colorbar\":{\"outlinewidth\":0,\"ticks\":\"\"}}],\"histogram2d\":[{\"type\":\"histogram2d\",\"colorbar\":{\"outlinewidth\":0,\"ticks\":\"\"},\"colorscale\":[[0.0,\"#0d0887\"],[0.1111111111111111,\"#46039f\"],[0.2222222222222222,\"#7201a8\"],[0.3333333333333333,\"#9c179e\"],[0.4444444444444444,\"#bd3786\"],[0.5555555555555556,\"#d8576b\"],[0.6666666666666666,\"#ed7953\"],[0.7777777777777778,\"#fb9f3a\"],[0.8888888888888888,\"#fdca26\"],[1.0,\"#f0f921\"]]}],\"heatmap\":[{\"type\":\"heatmap\",\"colorbar\":{\"outlinewidth\":0,\"ticks\":\"\"},\"colorscale\":[[0.0,\"#0d0887\"],[0.1111111111111111,\"#46039f\"],[0.2222222222222222,\"#7201a8\"],[0.3333333333333333,\"#9c179e\"],[0.4444444444444444,\"#bd3786\"],[0.5555555555555556,\"#d8576b\"],[0.6666666666666666,\"#ed7953\"],[0.7777777777777778,\"#fb9f3a\"],[0.8888888888888888,\"#fdca26\"],[1.0,\"#f0f921\"]]}],\"heatmapgl\":[{\"type\":\"heatmapgl\",\"colorbar\":{\"outlinewidth\":0,\"ticks\":\"\"},\"colorscale\":[[0.0,\"#0d0887\"],[0.1111111111111111,\"#46039f\"],[0.2222222222222222,\"#7201a8\"],[0.3333333333333333,\"#9c179e\"],[0.4444444444444444,\"#bd3786\"],[0.5555555555555556,\"#d8576b\"],[0.6666666666666666,\"#ed7953\"],[0.7777777777777778,\"#fb9f3a\"],[0.8888888888888888,\"#fdca26\"],[1.0,\"#f0f921\"]]}],\"contourcarpet\":[{\"type\":\"contourcarpet\",\"colorbar\":{\"outlinewidth\":0,\"ticks\":\"\"}}],\"contour\":[{\"type\":\"contour\",\"colorbar\":{\"outlinewidth\":0,\"ticks\":\"\"},\"colorscale\":[[0.0,\"#0d0887\"],[0.1111111111111111,\"#46039f\"],[0.2222222222222222,\"#7201a8\"],[0.3333333333333333,\"#9c179e\"],[0.4444444444444444,\"#bd3786\"],[0.5555555555555556,\"#d8576b\"],[0.6666666666666666,\"#ed7953\"],[0.7777777777777778,\"#fb9f3a\"],[0.8888888888888888,\"#fdca26\"],[1.0,\"#f0f921\"]]}],\"surface\":[{\"type\":\"surface\",\"colorbar\":{\"outlinewidth\":0,\"ticks\":\"\"},\"colorscale\":[[0.0,\"#0d0887\"],[0.1111111111111111,\"#46039f\"],[0.2222222222222222,\"#7201a8\"],[0.3333333333333333,\"#9c179e\"],[0.4444444444444444,\"#bd3786\"],[0.5555555555555556,\"#d8576b\"],[0.6666666666666666,\"#ed7953\"],[0.7777777777777778,\"#fb9f3a\"],[0.8888888888888888,\"#fdca26\"],[1.0,\"#f0f921\"]]}],\"mesh3d\":[{\"type\":\"mesh3d\",\"colorbar\":{\"outlinewidth\":0,\"ticks\":\"\"}}],\"scatter\":[{\"fillpattern\":{\"fillmode\":\"overlay\",\"size\":10,\"solidity\":0.2},\"type\":\"scatter\"}],\"parcoords\":[{\"type\":\"parcoords\",\"line\":{\"colorbar\":{\"outlinewidth\":0,\"ticks\":\"\"}}}],\"scatterpolargl\":[{\"type\":\"scatterpolargl\",\"marker\":{\"colorbar\":{\"outlinewidth\":0,\"ticks\":\"\"}}}],\"bar\":[{\"error_x\":{\"color\":\"#2a3f5f\"},\"error_y\":{\"color\":\"#2a3f5f\"},\"marker\":{\"line\":{\"color\":\"#E5ECF6\",\"width\":0.5},\"pattern\":{\"fillmode\":\"overlay\",\"size\":10,\"solidity\":0.2}},\"type\":\"bar\"}],\"scattergeo\":[{\"type\":\"scattergeo\",\"marker\":{\"colorbar\":{\"outlinewidth\":0,\"ticks\":\"\"}}}],\"scatterpolar\":[{\"type\":\"scatterpolar\",\"marker\":{\"colorbar\":{\"outlinewidth\":0,\"ticks\":\"\"}}}],\"histogram\":[{\"marker\":{\"pattern\":{\"fillmode\":\"overlay\",\"size\":10,\"solidity\":0.2}},\"type\":\"histogram\"}],\"scattergl\":[{\"type\":\"scattergl\",\"marker\":{\"colorbar\":{\"outlinewidth\":0,\"ticks\":\"\"}}}],\"scatter3d\":[{\"type\":\"scatter3d\",\"line\":{\"colorbar\":{\"outlinewidth\":0,\"ticks\":\"\"}},\"marker\":{\"colorbar\":{\"outlinewidth\":0,\"ticks\":\"\"}}}],\"scattermapbox\":[{\"type\":\"scattermapbox\",\"marker\":{\"colorbar\":{\"outlinewidth\":0,\"ticks\":\"\"}}}],\"scatterternary\":[{\"type\":\"scatterternary\",\"marker\":{\"colorbar\":{\"outlinewidth\":0,\"ticks\":\"\"}}}],\"scattercarpet\":[{\"type\":\"scattercarpet\",\"marker\":{\"colorbar\":{\"outlinewidth\":0,\"ticks\":\"\"}}}],\"carpet\":[{\"aaxis\":{\"endlinecolor\":\"#2a3f5f\",\"gridcolor\":\"white\",\"linecolor\":\"white\",\"minorgridcolor\":\"white\",\"startlinecolor\":\"#2a3f5f\"},\"baxis\":{\"endlinecolor\":\"#2a3f5f\",\"gridcolor\":\"white\",\"linecolor\":\"white\",\"minorgridcolor\":\"white\",\"startlinecolor\":\"#2a3f5f\"},\"type\":\"carpet\"}],\"table\":[{\"cells\":{\"fill\":{\"color\":\"#EBF0F8\"},\"line\":{\"color\":\"white\"}},\"header\":{\"fill\":{\"color\":\"#C8D4E3\"},\"line\":{\"color\":\"white\"}},\"type\":\"table\"}],\"barpolar\":[{\"marker\":{\"line\":{\"color\":\"#E5ECF6\",\"width\":0.5},\"pattern\":{\"fillmode\":\"overlay\",\"size\":10,\"solidity\":0.2}},\"type\":\"barpolar\"}],\"pie\":[{\"automargin\":true,\"type\":\"pie\"}]},\"layout\":{\"autotypenumbers\":\"strict\",\"colorway\":[\"#636efa\",\"#EF553B\",\"#00cc96\",\"#ab63fa\",\"#FFA15A\",\"#19d3f3\",\"#FF6692\",\"#B6E880\",\"#FF97FF\",\"#FECB52\"],\"font\":{\"color\":\"#2a3f5f\"},\"hovermode\":\"closest\",\"hoverlabel\":{\"align\":\"left\"},\"paper_bgcolor\":\"white\",\"plot_bgcolor\":\"#E5ECF6\",\"polar\":{\"bgcolor\":\"#E5ECF6\",\"angularaxis\":{\"gridcolor\":\"white\",\"linecolor\":\"white\",\"ticks\":\"\"},\"radialaxis\":{\"gridcolor\":\"white\",\"linecolor\":\"white\",\"ticks\":\"\"}},\"ternary\":{\"bgcolor\":\"#E5ECF6\",\"aaxis\":{\"gridcolor\":\"white\",\"linecolor\":\"white\",\"ticks\":\"\"},\"baxis\":{\"gridcolor\":\"white\",\"linecolor\":\"white\",\"ticks\":\"\"},\"caxis\":{\"gridcolor\":\"white\",\"linecolor\":\"white\",\"ticks\":\"\"}},\"coloraxis\":{\"colorbar\":{\"outlinewidth\":0,\"ticks\":\"\"}},\"colorscale\":{\"sequential\":[[0.0,\"#0d0887\"],[0.1111111111111111,\"#46039f\"],[0.2222222222222222,\"#7201a8\"],[0.3333333333333333,\"#9c179e\"],[0.4444444444444444,\"#bd3786\"],[0.5555555555555556,\"#d8576b\"],[0.6666666666666666,\"#ed7953\"],[0.7777777777777778,\"#fb9f3a\"],[0.8888888888888888,\"#fdca26\"],[1.0,\"#f0f921\"]],\"sequentialminus\":[[0.0,\"#0d0887\"],[0.1111111111111111,\"#46039f\"],[0.2222222222222222,\"#7201a8\"],[0.3333333333333333,\"#9c179e\"],[0.4444444444444444,\"#bd3786\"],[0.5555555555555556,\"#d8576b\"],[0.6666666666666666,\"#ed7953\"],[0.7777777777777778,\"#fb9f3a\"],[0.8888888888888888,\"#fdca26\"],[1.0,\"#f0f921\"]],\"diverging\":[[0,\"#8e0152\"],[0.1,\"#c51b7d\"],[0.2,\"#de77ae\"],[0.3,\"#f1b6da\"],[0.4,\"#fde0ef\"],[0.5,\"#f7f7f7\"],[0.6,\"#e6f5d0\"],[0.7,\"#b8e186\"],[0.8,\"#7fbc41\"],[0.9,\"#4d9221\"],[1,\"#276419\"]]},\"xaxis\":{\"gridcolor\":\"white\",\"linecolor\":\"white\",\"ticks\":\"\",\"title\":{\"standoff\":15},\"zerolinecolor\":\"white\",\"automargin\":true,\"zerolinewidth\":2},\"yaxis\":{\"gridcolor\":\"white\",\"linecolor\":\"white\",\"ticks\":\"\",\"title\":{\"standoff\":15},\"zerolinecolor\":\"white\",\"automargin\":true,\"zerolinewidth\":2},\"scene\":{\"xaxis\":{\"backgroundcolor\":\"#E5ECF6\",\"gridcolor\":\"white\",\"linecolor\":\"white\",\"showbackground\":true,\"ticks\":\"\",\"zerolinecolor\":\"white\",\"gridwidth\":2},\"yaxis\":{\"backgroundcolor\":\"#E5ECF6\",\"gridcolor\":\"white\",\"linecolor\":\"white\",\"showbackground\":true,\"ticks\":\"\",\"zerolinecolor\":\"white\",\"gridwidth\":2},\"zaxis\":{\"backgroundcolor\":\"#E5ECF6\",\"gridcolor\":\"white\",\"linecolor\":\"white\",\"showbackground\":true,\"ticks\":\"\",\"zerolinecolor\":\"white\",\"gridwidth\":2}},\"shapedefaults\":{\"line\":{\"color\":\"#2a3f5f\"}},\"annotationdefaults\":{\"arrowcolor\":\"#2a3f5f\",\"arrowhead\":0,\"arrowwidth\":1},\"geo\":{\"bgcolor\":\"white\",\"landcolor\":\"#E5ECF6\",\"subunitcolor\":\"white\",\"showland\":true,\"showlakes\":true,\"lakecolor\":\"white\"},\"title\":{\"x\":0.05},\"mapbox\":{\"style\":\"light\"}}},\"legend\":{\"font\":{\"size\":12},\"orientation\":\"h\",\"x\":0.01,\"y\":0.99,\"bordercolor\":\"Black\",\"borderwidth\":1},\"xaxis\":{\"visible\":false},\"yaxis\":{\"visible\":false},\"margin\":{\"l\":20,\"r\":20,\"t\":40,\"b\":20},\"title\":{\"text\":\"Traffic type\"},\"showlegend\":true,\"plot_bgcolor\":\"white\",\"width\":1600,\"height\":300},                        {\"responsive\": true}                    ).then(function(){\n",
       "                            \n",
       "var gd = document.getElementById('05ce9682-0c61-43da-968d-0ab20a3c93a4');\n",
       "var x = new MutationObserver(function (mutations, observer) {{\n",
       "        var display = window.getComputedStyle(gd).display;\n",
       "        if (!display || display === 'none') {{\n",
       "            console.log([gd, 'removed!']);\n",
       "            Plotly.purge(gd);\n",
       "            observer.disconnect();\n",
       "        }}\n",
       "}});\n",
       "\n",
       "// Listen for the removal of the full notebook cells\n",
       "var notebookContainer = gd.closest('#notebook-container');\n",
       "if (notebookContainer) {{\n",
       "    x.observe(notebookContainer, {childList: true});\n",
       "}}\n",
       "\n",
       "// Listen for the clearing of the current output cell\n",
       "var outputEl = gd.closest('.output');\n",
       "if (outputEl) {{\n",
       "    x.observe(outputEl, {childList: true});\n",
       "}}\n",
       "\n",
       "                        })                };                });            </script>        </div>"
      ]
     },
     "metadata": {},
     "output_type": "display_data"
    }
   ],
   "source": [
    "# Generate invisible traces for legend only\n",
    "\n",
    "fig_l = go.Figure()\n",
    "\n",
    "for class_name, color in class_color_map.items():\n",
    "    fig_l.add_trace(go.Scatter(\n",
    "        x = [None],\n",
    "        y = [None],\n",
    "        mode = 'markers',\n",
    "        marker = dict(size = 12, color = color),\n",
    "        name = class_name,\n",
    "        showlegend = True))\n",
    "\n",
    "fig_l.update_layout(\n",
    "    title = 'Traffic type',\n",
    "    showlegend = True,\n",
    "    legend = dict(\n",
    "        orientation = 'h',\n",
    "        x = 0.01,\n",
    "        y = 0.99,\n",
    "        font = dict(size = 12),\n",
    "        bordercolor = \"Black\",\n",
    "        borderwidth = 1),\n",
    "    xaxis = dict(visible = False),\n",
    "    yaxis=dict(visible = False),\n",
    "    plot_bgcolor = 'white',\n",
    "    width = 1600,\n",
    "    height = 300,\n",
    "    margin = dict(l = 20, r = 20, t = 40, b = 20))\n",
    "\n",
    "# Save as HTML or image\n",
    "fig_l.write_html('topological_graph_legend.html')\n",
    "\n",
    "fig_l.show()\n"
   ]
  },
  {
   "cell_type": "code",
   "execution_count": 147,
   "id": "e0c55f3f-a940-4c65-9899-92b2f738bfcc",
   "metadata": {},
   "outputs": [
    {
     "data": {
      "text/plain": [
       "0.013112656912129208"
      ]
     },
     "execution_count": 147,
     "metadata": {},
     "output_type": "execute_result"
    }
   ],
   "source": [
    "(iot_df.loc[((iot_df['Traffic_type'] == 'Benign') & (iot_df['Attack_type'].str.endswith('.pcap_Flow') == False)), 'id.orig_p'].value_counts() / \\\n",
    "    iot_df.loc[((iot_df['Traffic_type'] == 'Benign') & (iot_df['Attack_type'].str.endswith('.pcap_Flow') == False)), :] \\\n",
    "         .shape[0]).iloc[:5].sum()\n"
   ]
  },
  {
   "cell_type": "code",
   "execution_count": 138,
   "id": "40570093-c735-43fe-9342-a377f4131b5e",
   "metadata": {},
   "outputs": [
    {
     "data": {
      "text/plain": [
       "1801"
      ]
     },
     "execution_count": 138,
     "metadata": {},
     "output_type": "execute_result"
    }
   ],
   "source": [
    "iot_df.loc[((iot_df['Traffic_type'] != 'Benign') & (iot_df['Attack_type'].str.endswith('.pcap_Flow') == False)), 'id.resp_p'].nunique()"
   ]
  },
  {
   "cell_type": "code",
   "execution_count": 151,
   "id": "b6e80d12-f077-4915-91d1-70f75a5ca3ea",
   "metadata": {},
   "outputs": [
    {
     "data": {
      "text/plain": [
       "0.15768577592142102"
      ]
     },
     "execution_count": 151,
     "metadata": {},
     "output_type": "execute_result"
    }
   ],
   "source": [
    "(iot_df.assign(pair = iot_df['ip_src'] + iot_df['ip_dst']) \\\n",
    "     .loc[((iot_df['Traffic_type'] != 'Benign') & (iot_df['Attack_type'].str.endswith('.pcap_Flow') == True)), 'pair'].value_counts() / \\\n",
    "        iot_df.loc[((iot_df['Traffic_type'] != 'Benign') & (iot_df['Attack_type'].str.endswith('.pcap_Flow') == True)), :] \\\n",
    "            .shape[0]).iloc[:5].sum()"
   ]
  },
  {
   "cell_type": "code",
   "execution_count": 157,
   "id": "a05ba505-8bc7-45fe-8bdc-f73078e70e07",
   "metadata": {},
   "outputs": [
    {
     "data": {
      "text/plain": [
       "33943"
      ]
     },
     "execution_count": 157,
     "metadata": {},
     "output_type": "execute_result"
    }
   ],
   "source": [
    "(iot_df.assign(pair = iot_df['id.orig_p'] + iot_df['id.resp_p'])) \\\n",
    "     .loc[((iot_df['Traffic_type'] != 'Benign') & (iot_df['Attack_type'].str.endswith('.pcap_Flow') == False)), 'pair'].nunique()"
   ]
  },
  {
   "cell_type": "code",
   "execution_count": null,
   "id": "6e13138a-777f-46ae-b950-a995b21763fd",
   "metadata": {},
   "outputs": [],
   "source": []
  }
 ],
 "metadata": {
  "kernelspec": {
   "display_name": "Python 3 (ipykernel)",
   "language": "python",
   "name": "python3"
  },
  "language_info": {
   "codemirror_mode": {
    "name": "ipython",
    "version": 3
   },
   "file_extension": ".py",
   "mimetype": "text/x-python",
   "name": "python",
   "nbconvert_exporter": "python",
   "pygments_lexer": "ipython3",
   "version": "3.12.7"
  }
 },
 "nbformat": 4,
 "nbformat_minor": 5
}
